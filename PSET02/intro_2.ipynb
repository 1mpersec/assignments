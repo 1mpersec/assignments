{
 "cells": [
  {
   "cell_type": "code",
   "execution_count": null,
   "metadata": {},
   "outputs": [],
   "source": [
    "pip install otter-grader"
   ]
  },
  {
   "cell_type": "code",
   "execution_count": 1,
   "metadata": {
    "deletable": false,
    "editable": false
   },
   "outputs": [],
   "source": [
    "# Initialize Otter\n",
    "import otter\n",
    "grader = otter.Notebook(\"intro_2.ipynb\")"
   ]
  },
  {
   "cell_type": "code",
   "execution_count": 12,
   "metadata": {
    "scrolled": true
   },
   "outputs": [
    {
     "name": "stdout",
     "output_type": "stream",
     "text": [
      "Requirement already satisfied: ase in /opt/anaconda3/lib/python3.12/site-packages (3.24.0)\n",
      "Requirement already satisfied: numpy>=1.19.5 in /opt/anaconda3/lib/python3.12/site-packages (from ase) (1.26.4)\n",
      "Requirement already satisfied: scipy>=1.6.0 in /opt/anaconda3/lib/python3.12/site-packages (from ase) (1.13.1)\n",
      "Requirement already satisfied: matplotlib>=3.3.4 in /opt/anaconda3/lib/python3.12/site-packages (from ase) (3.8.4)\n",
      "Requirement already satisfied: contourpy>=1.0.1 in /opt/anaconda3/lib/python3.12/site-packages (from matplotlib>=3.3.4->ase) (1.2.0)\n",
      "Requirement already satisfied: cycler>=0.10 in /opt/anaconda3/lib/python3.12/site-packages (from matplotlib>=3.3.4->ase) (0.11.0)\n",
      "Requirement already satisfied: fonttools>=4.22.0 in /opt/anaconda3/lib/python3.12/site-packages (from matplotlib>=3.3.4->ase) (4.51.0)\n",
      "Requirement already satisfied: kiwisolver>=1.3.1 in /opt/anaconda3/lib/python3.12/site-packages (from matplotlib>=3.3.4->ase) (1.4.4)\n",
      "Requirement already satisfied: packaging>=20.0 in /opt/anaconda3/lib/python3.12/site-packages (from matplotlib>=3.3.4->ase) (23.2)\n",
      "Requirement already satisfied: pillow>=8 in /opt/anaconda3/lib/python3.12/site-packages (from matplotlib>=3.3.4->ase) (10.3.0)\n",
      "Requirement already satisfied: pyparsing>=2.3.1 in /opt/anaconda3/lib/python3.12/site-packages (from matplotlib>=3.3.4->ase) (3.0.9)\n",
      "Requirement already satisfied: python-dateutil>=2.7 in /opt/anaconda3/lib/python3.12/site-packages (from matplotlib>=3.3.4->ase) (2.9.0.post0)\n",
      "Requirement already satisfied: six>=1.5 in /opt/anaconda3/lib/python3.12/site-packages (from python-dateutil>=2.7->matplotlib>=3.3.4->ase) (1.16.0)\n",
      "Note: you may need to restart the kernel to use updated packages.\n",
      "Collecting abtem\n",
      "  Using cached abtem-1.0.5-py3-none-any.whl.metadata (1.9 kB)\n",
      "Requirement already satisfied: numpy in /opt/anaconda3/lib/python3.12/site-packages (from abtem) (1.26.4)\n",
      "Requirement already satisfied: pandas in /opt/anaconda3/lib/python3.12/site-packages (from abtem) (2.2.2)\n",
      "Requirement already satisfied: matplotlib>=3.6 in /opt/anaconda3/lib/python3.12/site-packages (from abtem) (3.8.4)\n",
      "Collecting pyfftw (from abtem)\n",
      "  Using cached pyfftw-0.15.0.tar.gz (164 kB)\n",
      "  Installing build dependencies ... \u001b[?25ldone\n",
      "\u001b[?25h  Getting requirements to build wheel ... \u001b[?25ldone\n",
      "\u001b[?25h  Preparing metadata (pyproject.toml) ... \u001b[?25ldone\n",
      "\u001b[?25hRequirement already satisfied: scipy in /opt/anaconda3/lib/python3.12/site-packages (from abtem) (1.13.1)\n",
      "Requirement already satisfied: numba in /opt/anaconda3/lib/python3.12/site-packages (from abtem) (0.59.1)\n",
      "Requirement already satisfied: dask>=2022.12.1 in /opt/anaconda3/lib/python3.12/site-packages (from abtem) (2024.5.0)\n",
      "Requirement already satisfied: distributed in /opt/anaconda3/lib/python3.12/site-packages (from abtem) (2024.5.0)\n",
      "Collecting zarr (from abtem)\n",
      "  Using cached zarr-3.0.2-py3-none-any.whl.metadata (9.6 kB)\n",
      "Requirement already satisfied: ase in /opt/anaconda3/lib/python3.12/site-packages (from abtem) (3.24.0)\n",
      "Requirement already satisfied: threadpoolctl in /opt/anaconda3/lib/python3.12/site-packages (from abtem) (2.2.0)\n",
      "Requirement already satisfied: tabulate in /opt/anaconda3/lib/python3.12/site-packages (from abtem) (0.9.0)\n",
      "Requirement already satisfied: ipywidgets in /opt/anaconda3/lib/python3.12/site-packages (from abtem) (8.1.5)\n",
      "Collecting ipympl (from abtem)\n",
      "  Using cached ipympl-0.9.6-py3-none-any.whl.metadata (8.7 kB)\n",
      "Requirement already satisfied: click>=8.1 in /opt/anaconda3/lib/python3.12/site-packages (from dask>=2022.12.1->abtem) (8.1.7)\n",
      "Requirement already satisfied: cloudpickle>=1.5.0 in /opt/anaconda3/lib/python3.12/site-packages (from dask>=2022.12.1->abtem) (2.2.1)\n",
      "Requirement already satisfied: fsspec>=2021.09.0 in /opt/anaconda3/lib/python3.12/site-packages (from dask>=2022.12.1->abtem) (2024.3.1)\n",
      "Requirement already satisfied: packaging>=20.0 in /opt/anaconda3/lib/python3.12/site-packages (from dask>=2022.12.1->abtem) (23.2)\n",
      "Requirement already satisfied: partd>=1.2.0 in /opt/anaconda3/lib/python3.12/site-packages (from dask>=2022.12.1->abtem) (1.4.1)\n",
      "Requirement already satisfied: pyyaml>=5.3.1 in /opt/anaconda3/lib/python3.12/site-packages (from dask>=2022.12.1->abtem) (6.0.1)\n",
      "Requirement already satisfied: toolz>=0.10.0 in /opt/anaconda3/lib/python3.12/site-packages (from dask>=2022.12.1->abtem) (0.12.0)\n",
      "Requirement already satisfied: contourpy>=1.0.1 in /opt/anaconda3/lib/python3.12/site-packages (from matplotlib>=3.6->abtem) (1.2.0)\n",
      "Requirement already satisfied: cycler>=0.10 in /opt/anaconda3/lib/python3.12/site-packages (from matplotlib>=3.6->abtem) (0.11.0)\n",
      "Requirement already satisfied: fonttools>=4.22.0 in /opt/anaconda3/lib/python3.12/site-packages (from matplotlib>=3.6->abtem) (4.51.0)\n",
      "Requirement already satisfied: kiwisolver>=1.3.1 in /opt/anaconda3/lib/python3.12/site-packages (from matplotlib>=3.6->abtem) (1.4.4)\n",
      "Requirement already satisfied: pillow>=8 in /opt/anaconda3/lib/python3.12/site-packages (from matplotlib>=3.6->abtem) (10.3.0)\n",
      "Requirement already satisfied: pyparsing>=2.3.1 in /opt/anaconda3/lib/python3.12/site-packages (from matplotlib>=3.6->abtem) (3.0.9)\n",
      "Requirement already satisfied: python-dateutil>=2.7 in /opt/anaconda3/lib/python3.12/site-packages (from matplotlib>=3.6->abtem) (2.9.0.post0)\n",
      "Requirement already satisfied: jinja2>=2.10.3 in /opt/anaconda3/lib/python3.12/site-packages (from distributed->abtem) (3.1.4)\n",
      "Requirement already satisfied: locket>=1.0.0 in /opt/anaconda3/lib/python3.12/site-packages (from distributed->abtem) (1.0.0)\n",
      "Requirement already satisfied: msgpack>=1.0.0 in /opt/anaconda3/lib/python3.12/site-packages (from distributed->abtem) (1.0.3)\n",
      "Requirement already satisfied: psutil>=5.7.2 in /opt/anaconda3/lib/python3.12/site-packages (from distributed->abtem) (5.9.0)\n",
      "Requirement already satisfied: sortedcontainers>=2.0.5 in /opt/anaconda3/lib/python3.12/site-packages (from distributed->abtem) (2.4.0)\n",
      "Requirement already satisfied: tblib>=1.6.0 in /opt/anaconda3/lib/python3.12/site-packages (from distributed->abtem) (1.7.0)\n",
      "Requirement already satisfied: tornado>=6.0.4 in /opt/anaconda3/lib/python3.12/site-packages (from distributed->abtem) (6.4.1)\n",
      "Requirement already satisfied: urllib3>=1.24.3 in /opt/anaconda3/lib/python3.12/site-packages (from distributed->abtem) (2.2.2)\n",
      "Requirement already satisfied: zict>=3.0.0 in /opt/anaconda3/lib/python3.12/site-packages (from distributed->abtem) (3.0.0)\n",
      "Requirement already satisfied: ipython<9 in /opt/anaconda3/lib/python3.12/site-packages (from ipympl->abtem) (8.25.0)\n",
      "Requirement already satisfied: traitlets<6 in /opt/anaconda3/lib/python3.12/site-packages (from ipympl->abtem) (5.14.3)\n",
      "Requirement already satisfied: comm>=0.1.3 in /opt/anaconda3/lib/python3.12/site-packages (from ipywidgets->abtem) (0.2.1)\n",
      "Requirement already satisfied: widgetsnbextension~=4.0.12 in /opt/anaconda3/lib/python3.12/site-packages (from ipywidgets->abtem) (4.0.13)\n",
      "Requirement already satisfied: jupyterlab-widgets~=3.0.12 in /opt/anaconda3/lib/python3.12/site-packages (from ipywidgets->abtem) (3.0.13)\n",
      "Requirement already satisfied: llvmlite<0.43,>=0.42.0dev0 in /opt/anaconda3/lib/python3.12/site-packages (from numba->abtem) (0.42.0)\n",
      "Requirement already satisfied: pytz>=2020.1 in /opt/anaconda3/lib/python3.12/site-packages (from pandas->abtem) (2024.1)\n",
      "Requirement already satisfied: tzdata>=2022.7 in /opt/anaconda3/lib/python3.12/site-packages (from pandas->abtem) (2023.3)\n",
      "Collecting setuptools>=70.1.1 (from pyfftw->abtem)\n",
      "  Using cached setuptools-75.8.0-py3-none-any.whl.metadata (6.7 kB)\n",
      "Collecting donfig>=0.8 (from zarr->abtem)\n",
      "  Using cached donfig-0.8.1.post1-py3-none-any.whl.metadata (5.0 kB)\n",
      "Collecting numcodecs>=0.14 (from numcodecs[crc32c]>=0.14->zarr->abtem)\n",
      "  Using cached numcodecs-0.15.1-cp312-cp312-macosx_10_13_x86_64.whl.metadata (2.9 kB)\n",
      "Requirement already satisfied: typing-extensions>=4.9 in /opt/anaconda3/lib/python3.12/site-packages (from zarr->abtem) (4.11.0)\n",
      "Requirement already satisfied: decorator in /opt/anaconda3/lib/python3.12/site-packages (from ipython<9->ipympl->abtem) (5.1.1)\n",
      "Requirement already satisfied: jedi>=0.16 in /opt/anaconda3/lib/python3.12/site-packages (from ipython<9->ipympl->abtem) (0.18.1)\n",
      "Requirement already satisfied: matplotlib-inline in /opt/anaconda3/lib/python3.12/site-packages (from ipython<9->ipympl->abtem) (0.1.6)\n",
      "Requirement already satisfied: prompt-toolkit<3.1.0,>=3.0.41 in /opt/anaconda3/lib/python3.12/site-packages (from ipython<9->ipympl->abtem) (3.0.43)\n",
      "Requirement already satisfied: pygments>=2.4.0 in /opt/anaconda3/lib/python3.12/site-packages (from ipython<9->ipympl->abtem) (2.15.1)\n",
      "Requirement already satisfied: stack-data in /opt/anaconda3/lib/python3.12/site-packages (from ipython<9->ipympl->abtem) (0.2.0)\n",
      "Requirement already satisfied: pexpect>4.3 in /opt/anaconda3/lib/python3.12/site-packages (from ipython<9->ipympl->abtem) (4.8.0)\n",
      "Requirement already satisfied: MarkupSafe>=2.0 in /opt/anaconda3/lib/python3.12/site-packages (from jinja2>=2.10.3->distributed->abtem) (2.1.3)\n",
      "Collecting deprecated (from numcodecs>=0.14->numcodecs[crc32c]>=0.14->zarr->abtem)\n",
      "  Using cached Deprecated-1.2.18-py2.py3-none-any.whl.metadata (5.7 kB)\n",
      "Collecting crc32c>=2.7 (from numcodecs[crc32c]>=0.14->zarr->abtem)\n",
      "  Using cached crc32c-2.7.1-cp312-cp312-macosx_10_13_x86_64.whl.metadata (7.3 kB)\n",
      "Requirement already satisfied: six>=1.5 in /opt/anaconda3/lib/python3.12/site-packages (from python-dateutil>=2.7->matplotlib>=3.6->abtem) (1.16.0)\n",
      "Requirement already satisfied: parso<0.9.0,>=0.8.0 in /opt/anaconda3/lib/python3.12/site-packages (from jedi>=0.16->ipython<9->ipympl->abtem) (0.8.3)\n",
      "Requirement already satisfied: ptyprocess>=0.5 in /opt/anaconda3/lib/python3.12/site-packages (from pexpect>4.3->ipython<9->ipympl->abtem) (0.7.0)\n",
      "Requirement already satisfied: wcwidth in /opt/anaconda3/lib/python3.12/site-packages (from prompt-toolkit<3.1.0,>=3.0.41->ipython<9->ipympl->abtem) (0.2.5)\n",
      "Requirement already satisfied: wrapt<2,>=1.10 in /opt/anaconda3/lib/python3.12/site-packages (from deprecated->numcodecs>=0.14->numcodecs[crc32c]>=0.14->zarr->abtem) (1.17.2)\n",
      "Requirement already satisfied: executing in /opt/anaconda3/lib/python3.12/site-packages (from stack-data->ipython<9->ipympl->abtem) (0.8.3)\n",
      "Requirement already satisfied: asttokens in /opt/anaconda3/lib/python3.12/site-packages (from stack-data->ipython<9->ipympl->abtem) (2.0.5)\n",
      "Requirement already satisfied: pure-eval in /opt/anaconda3/lib/python3.12/site-packages (from stack-data->ipython<9->ipympl->abtem) (0.2.2)\n",
      "Using cached abtem-1.0.5-py3-none-any.whl (410 kB)\n",
      "Using cached ipympl-0.9.6-py3-none-any.whl (515 kB)\n",
      "Using cached zarr-3.0.2-py3-none-any.whl (184 kB)\n",
      "Using cached donfig-0.8.1.post1-py3-none-any.whl (21 kB)\n",
      "Using cached numcodecs-0.15.1-cp312-cp312-macosx_10_13_x86_64.whl (1.7 MB)\n",
      "Using cached setuptools-75.8.0-py3-none-any.whl (1.2 MB)\n",
      "Using cached crc32c-2.7.1-cp312-cp312-macosx_10_13_x86_64.whl (37 kB)\n",
      "Using cached Deprecated-1.2.18-py2.py3-none-any.whl (10.0 kB)\n",
      "Building wheels for collected packages: pyfftw\n",
      "  Building wheel for pyfftw (pyproject.toml) ... \u001b[?25lerror\n",
      "  \u001b[1;31merror\u001b[0m: \u001b[1msubprocess-exited-with-error\u001b[0m\n",
      "  \n",
      "  \u001b[31m×\u001b[0m \u001b[32mBuilding wheel for pyfftw \u001b[0m\u001b[1;32m(\u001b[0m\u001b[32mpyproject.toml\u001b[0m\u001b[1;32m)\u001b[0m did not run successfully.\n",
      "  \u001b[31m│\u001b[0m exit code: \u001b[1;36m1\u001b[0m\n",
      "  \u001b[31m╰─>\u001b[0m \u001b[31m[60 lines of output]\u001b[0m\n",
      "  \u001b[31m   \u001b[0m INFO:root:running bdist_wheel\n",
      "  \u001b[31m   \u001b[0m INFO:root:running build\n",
      "  \u001b[31m   \u001b[0m INFO:root:running build_py\n",
      "  \u001b[31m   \u001b[0m WARNING:root:file pyfftw.py (for module pyfftw) not found\n",
      "  \u001b[31m   \u001b[0m INFO:root:creating build/lib.macosx-10.15-x86_64-cpython-312/pyfftw\n",
      "  \u001b[31m   \u001b[0m INFO:root:copying pyfftw/config.py -> build/lib.macosx-10.15-x86_64-cpython-312/pyfftw\n",
      "  \u001b[31m   \u001b[0m INFO:root:copying pyfftw/_version.py -> build/lib.macosx-10.15-x86_64-cpython-312/pyfftw\n",
      "  \u001b[31m   \u001b[0m INFO:root:copying pyfftw/__init__.py -> build/lib.macosx-10.15-x86_64-cpython-312/pyfftw\n",
      "  \u001b[31m   \u001b[0m INFO:root:creating build/lib.macosx-10.15-x86_64-cpython-312/pyfftw/builders\n",
      "  \u001b[31m   \u001b[0m INFO:root:copying pyfftw/builders/builders.py -> build/lib.macosx-10.15-x86_64-cpython-312/pyfftw/builders\n",
      "  \u001b[31m   \u001b[0m INFO:root:copying pyfftw/builders/__init__.py -> build/lib.macosx-10.15-x86_64-cpython-312/pyfftw/builders\n",
      "  \u001b[31m   \u001b[0m INFO:root:copying pyfftw/builders/_utils.py -> build/lib.macosx-10.15-x86_64-cpython-312/pyfftw/builders\n",
      "  \u001b[31m   \u001b[0m INFO:root:creating build/lib.macosx-10.15-x86_64-cpython-312/pyfftw/interfaces\n",
      "  \u001b[31m   \u001b[0m INFO:root:copying pyfftw/interfaces/cache.py -> build/lib.macosx-10.15-x86_64-cpython-312/pyfftw/interfaces\n",
      "  \u001b[31m   \u001b[0m INFO:root:copying pyfftw/interfaces/__init__.py -> build/lib.macosx-10.15-x86_64-cpython-312/pyfftw/interfaces\n",
      "  \u001b[31m   \u001b[0m INFO:root:copying pyfftw/interfaces/scipy_fft.py -> build/lib.macosx-10.15-x86_64-cpython-312/pyfftw/interfaces\n",
      "  \u001b[31m   \u001b[0m INFO:root:copying pyfftw/interfaces/dask_fft.py -> build/lib.macosx-10.15-x86_64-cpython-312/pyfftw/interfaces\n",
      "  \u001b[31m   \u001b[0m INFO:root:copying pyfftw/interfaces/numpy_fft.py -> build/lib.macosx-10.15-x86_64-cpython-312/pyfftw/interfaces\n",
      "  \u001b[31m   \u001b[0m INFO:root:copying pyfftw/interfaces/scipy_fftpack.py -> build/lib.macosx-10.15-x86_64-cpython-312/pyfftw/interfaces\n",
      "  \u001b[31m   \u001b[0m INFO:root:copying pyfftw/interfaces/_utils.py -> build/lib.macosx-10.15-x86_64-cpython-312/pyfftw/interfaces\n",
      "  \u001b[31m   \u001b[0m INFO:root:running egg_info\n",
      "  \u001b[31m   \u001b[0m INFO:root:writing pyFFTW.egg-info/PKG-INFO\n",
      "  \u001b[31m   \u001b[0m INFO:root:writing dependency_links to pyFFTW.egg-info/dependency_links.txt\n",
      "  \u001b[31m   \u001b[0m INFO:root:writing requirements to pyFFTW.egg-info/requires.txt\n",
      "  \u001b[31m   \u001b[0m INFO:root:writing top-level names to pyFFTW.egg-info/top_level.txt\n",
      "  \u001b[31m   \u001b[0m WARNING:root:file pyfftw.py (for module pyfftw) not found\n",
      "  \u001b[31m   \u001b[0m INFO:root:reading manifest file 'pyFFTW.egg-info/SOURCES.txt'\n",
      "  \u001b[31m   \u001b[0m INFO:root:reading manifest template 'MANIFEST.in'\n",
      "  \u001b[31m   \u001b[0m WARNING:root:warning: no files found matching 'CHANGELOG.md'\n",
      "  \u001b[31m   \u001b[0m WARNING:root:warning: no files found matching 'requirements.txt'\n",
      "  \u001b[31m   \u001b[0m WARNING:root:warning: no files found matching 'README.rst'\n",
      "  \u001b[31m   \u001b[0m WARNING:root:warning: no files found matching 'test/*.py'\n",
      "  \u001b[31m   \u001b[0m WARNING:root:no previously-included directories found matching 'docs/_build'\n",
      "  \u001b[31m   \u001b[0m WARNING:root:no previously-included directories found matching 'build'\n",
      "  \u001b[31m   \u001b[0m WARNING:root:no previously-included directories found matching '*/__pycache__'\n",
      "  \u001b[31m   \u001b[0m WARNING:root:warning: no previously-included files matching '*.py[cod]' found anywhere in distribution\n",
      "  \u001b[31m   \u001b[0m WARNING:root:warning: no previously-included files matching '*.so' found anywhere in distribution\n",
      "  \u001b[31m   \u001b[0m WARNING:root:warning: no previously-included files matching '*.dll' found anywhere in distribution\n",
      "  \u001b[31m   \u001b[0m WARNING:root:warning: no previously-included files matching '*.dylib' found anywhere in distribution\n",
      "  \u001b[31m   \u001b[0m WARNING:root:warning: no previously-included files matching '*~' found anywhere in distribution\n",
      "  \u001b[31m   \u001b[0m WARNING:root:warning: no previously-included files matching '*.bak' found anywhere in distribution\n",
      "  \u001b[31m   \u001b[0m WARNING:root:warning: no previously-included files matching '*.swp' found anywhere in distribution\n",
      "  \u001b[31m   \u001b[0m INFO:root:adding license file 'LICENSE.txt'\n",
      "  \u001b[31m   \u001b[0m INFO:root:writing manifest file 'pyFFTW.egg-info/SOURCES.txt'\n",
      "  \u001b[31m   \u001b[0m INFO:root:copying pyfftw/__init__.pxd -> build/lib.macosx-10.15-x86_64-cpython-312/pyfftw\n",
      "  \u001b[31m   \u001b[0m INFO:root:copying pyfftw/cpu.pxd -> build/lib.macosx-10.15-x86_64-cpython-312/pyfftw\n",
      "  \u001b[31m   \u001b[0m INFO:root:copying pyfftw/pyfftw.pxd -> build/lib.macosx-10.15-x86_64-cpython-312/pyfftw\n",
      "  \u001b[31m   \u001b[0m INFO:root:copying pyfftw/pyfftw.pyx -> build/lib.macosx-10.15-x86_64-cpython-312/pyfftw\n",
      "  \u001b[31m   \u001b[0m INFO:root:copying pyfftw/utils.pxi -> build/lib.macosx-10.15-x86_64-cpython-312/pyfftw\n",
      "  \u001b[31m   \u001b[0m WARNING:root:file pyfftw.py (for module pyfftw) not found\n",
      "  \u001b[31m   \u001b[0m INFO:root:running build_ext\n",
      "  \u001b[31m   \u001b[0m INFO:root:clang -fno-strict-overflow -DNDEBUG -O2 -Wall -fPIC -O2 -isystem /opt/anaconda3/include -fPIC -O2 -isystem /opt/anaconda3/include -I/private/var/folders/vl/hlb1dd9x43n6g6cxx31l2hn80000gn/T/pip-install-tk2nsc58/pyfftw_3a23145ba1424d4c93dd94c7bab7bd0c/include -I/private/var/folders/vl/hlb1dd9x43n6g6cxx31l2hn80000gn/T/pip-install-tk2nsc58/pyfftw_3a23145ba1424d4c93dd94c7bab7bd0c/pyfftw -I/private/var/folders/vl/hlb1dd9x43n6g6cxx31l2hn80000gn/T/pip-build-env-forngd79/overlay/lib/python3.12/site-packages/numpy/_core/include -I/opt/anaconda3/include -I/usr/local/include -I/opt/anaconda3/include/python3.12 -c /var/folders/vl/hlb1dd9x43n6g6cxx31l2hn80000gn/T/pyfftw-085o_832/None.c -o /var/folders/vl/hlb1dd9x43n6g6cxx31l2hn80000gn/T/pyfftw-085o_832/None.o\n",
      "  \u001b[31m   \u001b[0m /var/folders/vl/hlb1dd9x43n6g6cxx31l2hn80000gn/T/pyfftw-085o_832/None.c:1:10: fatal error: 'fftw3.h' file not found\n",
      "  \u001b[31m   \u001b[0m #include <fftw3.h>\n",
      "  \u001b[31m   \u001b[0m          ^~~~~~~~~\n",
      "  \u001b[31m   \u001b[0m 1 error generated.\n",
      "  \u001b[31m   \u001b[0m WARNING:__main__:Compilation error: command '/usr/bin/clang' failed with exit code 1\n",
      "  \u001b[31m   \u001b[0m UPDATING build/lib.macosx-10.15-x86_64-cpython-312/pyfftw/_version.py\n",
      "  \u001b[31m   \u001b[0m set build/lib.macosx-10.15-x86_64-cpython-312/pyfftw/_version.py to '0.15.0'\n",
      "  \u001b[31m   \u001b[0m error: Could not find the FFTW header 'fftw3.h'\n",
      "  \u001b[31m   \u001b[0m \u001b[31m[end of output]\u001b[0m\n",
      "  \n",
      "  \u001b[1;35mnote\u001b[0m: This error originates from a subprocess, and is likely not a problem with pip.\n",
      "\u001b[31m  ERROR: Failed building wheel for pyfftw\u001b[0m\u001b[31m\n",
      "\u001b[0m\u001b[?25hFailed to build pyfftw\n",
      "\u001b[31mERROR: Could not build wheels for pyfftw, which is required to install pyproject.toml-based projects\u001b[0m\u001b[31m\n",
      "\u001b[0mNote: you may need to restart the kernel to use updated packages.\n",
      "Collecting numpy==1.25.0\n",
      "  Using cached numpy-1.25.0.tar.gz (10.4 MB)\n",
      "  Installing build dependencies ... \u001b[?25ldone\n",
      "\u001b[?25h  Getting requirements to build wheel ... \u001b[?25lerror\n",
      "  \u001b[1;31merror\u001b[0m: \u001b[1msubprocess-exited-with-error\u001b[0m\n",
      "  \n",
      "  \u001b[31m×\u001b[0m \u001b[32mGetting requirements to build wheel\u001b[0m did not run successfully.\n",
      "  \u001b[31m│\u001b[0m exit code: \u001b[1;36m1\u001b[0m\n",
      "  \u001b[31m╰─>\u001b[0m \u001b[31m[33 lines of output]\u001b[0m\n",
      "  \u001b[31m   \u001b[0m Traceback (most recent call last):\n",
      "  \u001b[31m   \u001b[0m   File \"/opt/anaconda3/lib/python3.12/site-packages/pip/_vendor/pyproject_hooks/_in_process/_in_process.py\", line 353, in <module>\n",
      "  \u001b[31m   \u001b[0m     main()\n",
      "  \u001b[31m   \u001b[0m   File \"/opt/anaconda3/lib/python3.12/site-packages/pip/_vendor/pyproject_hooks/_in_process/_in_process.py\", line 335, in main\n",
      "  \u001b[31m   \u001b[0m     json_out['return_val'] = hook(**hook_input['kwargs'])\n",
      "  \u001b[31m   \u001b[0m                              ^^^^^^^^^^^^^^^^^^^^^^^^^^^^\n",
      "  \u001b[31m   \u001b[0m   File \"/opt/anaconda3/lib/python3.12/site-packages/pip/_vendor/pyproject_hooks/_in_process/_in_process.py\", line 112, in get_requires_for_build_wheel\n",
      "  \u001b[31m   \u001b[0m     backend = _build_backend()\n",
      "  \u001b[31m   \u001b[0m               ^^^^^^^^^^^^^^^^\n",
      "  \u001b[31m   \u001b[0m   File \"/opt/anaconda3/lib/python3.12/site-packages/pip/_vendor/pyproject_hooks/_in_process/_in_process.py\", line 77, in _build_backend\n",
      "  \u001b[31m   \u001b[0m     obj = import_module(mod_path)\n",
      "  \u001b[31m   \u001b[0m           ^^^^^^^^^^^^^^^^^^^^^^^\n",
      "  \u001b[31m   \u001b[0m   File \"/opt/anaconda3/lib/python3.12/importlib/__init__.py\", line 90, in import_module\n",
      "  \u001b[31m   \u001b[0m     return _bootstrap._gcd_import(name[level:], package, level)\n",
      "  \u001b[31m   \u001b[0m            ^^^^^^^^^^^^^^^^^^^^^^^^^^^^^^^^^^^^^^^^^^^^^^^^^^^^\n",
      "  \u001b[31m   \u001b[0m   File \"<frozen importlib._bootstrap>\", line 1387, in _gcd_import\n",
      "  \u001b[31m   \u001b[0m   File \"<frozen importlib._bootstrap>\", line 1360, in _find_and_load\n",
      "  \u001b[31m   \u001b[0m   File \"<frozen importlib._bootstrap>\", line 1310, in _find_and_load_unlocked\n",
      "  \u001b[31m   \u001b[0m   File \"<frozen importlib._bootstrap>\", line 488, in _call_with_frames_removed\n",
      "  \u001b[31m   \u001b[0m   File \"<frozen importlib._bootstrap>\", line 1387, in _gcd_import\n",
      "  \u001b[31m   \u001b[0m   File \"<frozen importlib._bootstrap>\", line 1360, in _find_and_load\n",
      "  \u001b[31m   \u001b[0m   File \"<frozen importlib._bootstrap>\", line 1331, in _find_and_load_unlocked\n",
      "  \u001b[31m   \u001b[0m   File \"<frozen importlib._bootstrap>\", line 935, in _load_unlocked\n",
      "  \u001b[31m   \u001b[0m   File \"<frozen importlib._bootstrap_external>\", line 995, in exec_module\n",
      "  \u001b[31m   \u001b[0m   File \"<frozen importlib._bootstrap>\", line 488, in _call_with_frames_removed\n",
      "  \u001b[31m   \u001b[0m   File \"/private/var/folders/vl/hlb1dd9x43n6g6cxx31l2hn80000gn/T/pip-build-env-3338sia5/overlay/lib/python3.12/site-packages/setuptools/__init__.py\", line 16, in <module>\n",
      "  \u001b[31m   \u001b[0m     import setuptools.version\n",
      "  \u001b[31m   \u001b[0m   File \"/private/var/folders/vl/hlb1dd9x43n6g6cxx31l2hn80000gn/T/pip-build-env-3338sia5/overlay/lib/python3.12/site-packages/setuptools/version.py\", line 1, in <module>\n",
      "  \u001b[31m   \u001b[0m     import pkg_resources\n",
      "  \u001b[31m   \u001b[0m   File \"/private/var/folders/vl/hlb1dd9x43n6g6cxx31l2hn80000gn/T/pip-build-env-3338sia5/overlay/lib/python3.12/site-packages/pkg_resources/__init__.py\", line 2172, in <module>\n",
      "  \u001b[31m   \u001b[0m     register_finder(pkgutil.ImpImporter, find_on_path)\n",
      "  \u001b[31m   \u001b[0m                     ^^^^^^^^^^^^^^^^^^^\n",
      "  \u001b[31m   \u001b[0m AttributeError: module 'pkgutil' has no attribute 'ImpImporter'. Did you mean: 'zipimporter'?\n",
      "  \u001b[31m   \u001b[0m \u001b[31m[end of output]\u001b[0m\n",
      "  \n",
      "  \u001b[1;35mnote\u001b[0m: This error originates from a subprocess, and is likely not a problem with pip.\n",
      "\u001b[1;31merror\u001b[0m: \u001b[1msubprocess-exited-with-error\u001b[0m\n",
      "\n",
      "\u001b[31m×\u001b[0m \u001b[32mGetting requirements to build wheel\u001b[0m did not run successfully.\n",
      "\u001b[31m│\u001b[0m exit code: \u001b[1;36m1\u001b[0m\n",
      "\u001b[31m╰─>\u001b[0m See above for output.\n",
      "\n",
      "\u001b[1;35mnote\u001b[0m: This error originates from a subprocess, and is likely not a problem with pip.\n",
      "\u001b[?25hNote: you may need to restart the kernel to use updated packages.\n"
     ]
    }
   ],
   "source": [
    "# Run this cell first, then restart the kernel\n",
    "%pip install ase\n",
    "%pip install abtem\n",
    "%pip install numpy==1.25.0"
   ]
  },
  {
   "cell_type": "code",
   "execution_count": 10,
   "metadata": {},
   "outputs": [
    {
     "ename": "ModuleNotFoundError",
     "evalue": "No module named 'abtem'",
     "output_type": "error",
     "traceback": [
      "\u001b[0;31m---------------------------------------------------------------------------\u001b[0m",
      "\u001b[0;31mModuleNotFoundError\u001b[0m                       Traceback (most recent call last)",
      "Cell \u001b[0;32mIn[10], line 6\u001b[0m\n\u001b[1;32m      4\u001b[0m \u001b[38;5;28;01mimport\u001b[39;00m \u001b[38;5;21;01mtime\u001b[39;00m\n\u001b[1;32m      5\u001b[0m \u001b[38;5;28;01mimport\u001b[39;00m \u001b[38;5;21;01mase\u001b[39;00m\n\u001b[0;32m----> 6\u001b[0m \u001b[38;5;28;01mimport\u001b[39;00m \u001b[38;5;21;01mabtem\u001b[39;00m\n",
      "\u001b[0;31mModuleNotFoundError\u001b[0m: No module named 'abtem'"
     ]
    }
   ],
   "source": [
    "import numpy as np\n",
    "import scipy\n",
    "import matplotlib.pyplot as plt\n",
    "import time\n",
    "import ase\n",
    "import abtem"
   ]
  },
  {
   "cell_type": "markdown",
   "metadata": {
    "editable": true,
    "slideshow": {
     "slide_type": ""
    },
    "tags": []
   },
   "source": [
    "# HW 2: Introductory Python Part 2\n",
    "\n",
    "| Question  | Points |\n",
    "|---|---|\n",
    "| 1a  | 1  | \n",
    "| 1b | 3  |\n",
    "| 1c  | 1  |\n",
    "| 1d | 5 |\n",
    "| 4 | 10 |\n",
    "\n",
    "## Learning Goals: Plotting, Loops, and Functions\n",
    "\n",
    "In this next introductory assignment we will take a look at a visualization package called `matplotlib`, look at the usages of loops in Python, and functions. This assignment will (hopefully) go relatively quick, as the aim is just to give you some familiarity. And in lieu of plotting line plots, going over examples of while/for loops, and filling in generic functions. We'll instead look at something you may be tasked with in research.\n",
    "\n",
    "Here are some useful links:\n",
    "\n",
    "- https://numpy.org/doc/stable/index.html\n",
    "- https://matplotlib.org/\n"
   ]
  },
  {
   "cell_type": "markdown",
   "metadata": {},
   "source": [
    "# Problem Statement\n",
    "\n",
    "**Tomography** in microscopy is a technique of generating a 3D volume by *tilting* a sample about an axis. For every tilt, we take a 2D image to reconstruct. An example below is a tomographic reconstruction of a nanocube using a transmission electron microscope (TEM):\n",
    "\n",
    "<div style=\"text-align: center;\">\n",
    "    <img src=\"Electron_tomography_of_nanocubes_visualized_with_tomviz.gif\" width=\"500\">\n",
    "</div>\n",
    "\n",
    "A much more common example would be CT scan, but instead of your sample rotating, the X-rays rotate about a person's body.\n",
    "\n",
    "Here's the problem:\n",
    "\n",
    "```\n",
    "Your research advisor at the National Center for Electron Microscopy at LBNL gives you simulated data of a cube nanoparticle. They ask you to simulate a tomography dataset, so that you can compare a simulated and experimental reconstruction of the nanoparticle\n",
    "```\n"
   ]
  },
  {
   "cell_type": "markdown",
   "metadata": {},
   "source": [
    "\n",
    "\n",
    "Below is code of how we construct our FCC gold nanoparticle. Feel free to change it, but when you submit please retain the original parameters.\n"
   ]
  },
  {
   "cell_type": "code",
   "execution_count": null,
   "metadata": {},
   "outputs": [],
   "source": [
    "from ase.cluster.cubic import FaceCenteredCubic\n",
    "import ase.visualize\n",
    "\n",
    "surfaces = [(1, 0, 0), (1, 1, 0), (1, 1, 1)]\n",
    "layers = [6, 9, 5]\n",
    "lc = 4.078\n",
    "nanoparticle = FaceCenteredCubic('Au', surfaces, layers, latticeconstant=lc)\n",
    "nanoparticle.set_cell([30, 30, 30])\n",
    "nanoparticle.center()\n",
    "print(nanoparticle.get_center_of_mass())\n",
    "# ase.visualize.view(nanoparticle, viewer = 'x3d') # Uncomment to view particle"
   ]
  },
  {
   "cell_type": "markdown",
   "metadata": {},
   "source": [
    "### Part a)\n",
    "\n",
    "While we can visualize the structure of our nanoparticle, what we're more interested in is what are the *atomic coordinates* of each atom. To get a better visualization we will use `plt.scatter` to show a 3D point cloud of our nanoparticle.\n",
    "\n",
    "Below is a simple example of the usage of `matplotlib`'s `scatter` function using `plt.subplots`:"
   ]
  },
  {
   "cell_type": "code",
   "execution_count": null,
   "metadata": {},
   "outputs": [],
   "source": [
    "coordinates = np.random.random((3, 100)) # Defines an array with 3 rows, and 100 columns with random values (0, 1).\n",
    "\n",
    "fig, ax = plt.subplots(subplot_kw={\"projection\": \"3d\"})\n",
    "ax.scatter(coordinates[0], coordinates[1], coordinates[2])\n",
    "\n",
    "plt.show()"
   ]
  },
  {
   "cell_type": "markdown",
   "metadata": {},
   "source": [
    "Plot the nanoparticle using the example code shown above. The positions of the nanoparticle is defined for you, using `nanoparticle.positions`. \n",
    "\n",
    "*Hint: how would you slice to get the $x$, $y$, and $z$ values?*\n",
    "\n",
    "*Note: This problem is also manually graded for testing purposes. Please make sure you made a 3D scatter plot like the example above.*"
   ]
  },
  {
   "cell_type": "markdown",
   "metadata": {
    "deletable": false,
    "editable": false
   },
   "source": [
    "<!-- BEGIN QUESTION -->\n",
    "\n"
   ]
  },
  {
   "cell_type": "code",
   "execution_count": null,
   "metadata": {
    "tags": []
   },
   "outputs": [],
   "source": [
    "np_positions = nanoparticle.positions\n",
    "\n",
    "print(\"First 10 atom positions: \\n\", np_positions[:10])\n",
    "\n",
    "x = ...\n",
    "y = ...\n",
    "z = ...\n",
    "...\n",
    "plt.show()"
   ]
  },
  {
   "cell_type": "code",
   "execution_count": null,
   "metadata": {
    "deletable": false,
    "editable": false
   },
   "outputs": [],
   "source": [
    "grader.check(\"q1a\")"
   ]
  },
  {
   "cell_type": "markdown",
   "metadata": {
    "deletable": false,
    "editable": false
   },
   "source": [
    "<!-- END QUESTION -->\n",
    "\n",
    "We will now develop a way where we can *tilt* our sample. Since in TEM data we always have a top-down view of our data (i.e looking from frame of the z-axis), so we will **tilt over the y-axis**. Below is an example of tilting the nanoparticle 20 degrees, and 45 degrees.\n",
    "\n",
    "We will use `abtem`'s built-in visualization of atoms to show a x-y view of our nanoparticle."
   ]
  },
  {
   "cell_type": "code",
   "execution_count": null,
   "metadata": {},
   "outputs": [],
   "source": [
    "rot_test = nanoparticle.copy()\n",
    "abtem.show_atoms(rot_test, title=\"Original Orientation\")\n",
    "rot_test.rotate(20, 'y', center = (15, 15, 15))\n",
    "abtem.show_atoms(rot_test, title=\"Tilted 20 Degrees\")\n",
    "rot_test.rotate(25, 'y', center = (15,15,15))\n",
    "abtem.show_atoms(rot_test, title=\"Tilted 45 Degrees\")"
   ]
  },
  {
   "cell_type": "markdown",
   "metadata": {},
   "source": [
    "Note that the rotations are **cumulative**, i.e rotating the particle once will change the state of the variable `nanoparticle`."
   ]
  },
  {
   "cell_type": "markdown",
   "metadata": {},
   "source": [
    "Since it's not really realistic to take an image of the atomic coordinates, we will use the **function** `ase_to_potential` which is implemented for you to give a [projected potential](https://abtem.readthedocs.io/en/latest/reference/api/_autosummary/abtem.potentials.iam.Potential.html) image of a nanoparticle. Functions in `python` are exactly in math i.e, you have an input $x$ that you pass into a function, $f(x)$, which returns a value. Python functions have the general syntax:"
   ]
  },
  {
   "cell_type": "code",
   "execution_count": null,
   "metadata": {},
   "outputs": [],
   "source": [
    "def my_func(x): # Has an input x\n",
    "    \n",
    "    result = x**2\n",
    "    \n",
    "    return result\n",
    "\n",
    "print(my_func(2))"
   ]
  },
  {
   "cell_type": "markdown",
   "metadata": {},
   "source": [
    "### part b)\n",
    "\n",
    "For the next problem, we will implement a function that transforms our nanoparticle into a projected potential. Read the documentation of [`abtem.Potential`](https://abtem.readthedocs.io/en/latest/reference/api/_autosummary/abtem.potentials.iam.Potential.html), and define `potential`.\n",
    "\n",
    "Use the parameters:\n",
    "- parametrization: \"kirkland\"\n",
    "- projection: \"infinite\n",
    "- sampling = 0.25\n",
    "- slice_thickness = 0.25"
   ]
  },
  {
   "cell_type": "markdown",
   "metadata": {
    "deletable": false,
    "editable": false
   },
   "source": [
    "<!-- BEGIN QUESTION -->\n",
    "\n"
   ]
  },
  {
   "cell_type": "code",
   "execution_count": null,
   "metadata": {
    "tags": []
   },
   "outputs": [],
   "source": [
    "def ase_to_potential(np_sys):\n",
    "    \n",
    "    potential = ...\n",
    "    \n",
    "    potentialArray = potential.build()\n",
    "    \n",
    "    return np.transpose(potentialArray.array.compute().sum(axis = 0))\n",
    "\n",
    "test = ase_to_potential(nanoparticle)\n",
    "\n",
    "plt.figure()\n",
    "plt.imshow(test, cmap = \"inferno\")\n",
    "plt.colorbar()"
   ]
  },
  {
   "cell_type": "code",
   "execution_count": null,
   "metadata": {
    "deletable": false,
    "editable": false
   },
   "outputs": [],
   "source": [
    "grader.check(\"q1b\")"
   ]
  },
  {
   "cell_type": "markdown",
   "metadata": {
    "deletable": false,
    "editable": false
   },
   "source": [
    "<!-- END QUESTION -->\n",
    "\n",
    "Note that what **we want is to get a 2D image per-tilt**. This problem neccesitates the use of a `for`-loop, as we need to repeat taking a 2D image per tilt. Below are examples of usages of a `for`-loop:"
   ]
  },
  {
   "cell_type": "code",
   "execution_count": null,
   "metadata": {},
   "outputs": [],
   "source": [
    "my_nums = np.arange(0, 10) # Generates a numpy array of values going from 0 to 9 (arange is not inclusive)\n",
    "\n",
    "print(\"General for-loop\")\n",
    "for i in range(len(my_nums)): # We need to pass an integer value of how long our list is to range.\n",
    "    print(my_nums[i]) # Access each value in my_nums by indexing.\n",
    "\n",
    "print(\"Pythonic for-loop\")\n",
    "for num in my_nums: # Iterates over each element in my_nums without indexing.\n",
    "    print(num) # Gives the number directly without indexing."
   ]
  },
  {
   "cell_type": "markdown",
   "metadata": {},
   "source": [
    "So within our for-loop we want to accomplish the following:\n",
    "\n",
    "1. Set a range of tilt angles from $[-90, 90]$\n",
    "2. Rotate our nanoparticle 5 degrees per iteration in the for loop.\n",
    "3. Append the projected potential of the rotated nanoparticle to a list.\n",
    "4. Keep track of the *cumulative* tilt angle.\n",
    "\n",
    "We'll break this into steps.\n",
    "\n",
    "### part c)\n",
    "\n",
    "Since the state of the nanoparticle is changed when we perform `nanoparticle.rotate`, we want **increments of 5 degrees that span our tilt range**. Given our minimum, and maximum tilt use [`np.ones()`](https://numpy.org/doc/2.1/reference/generated/numpy.ones.html) to create an array of 5's. You may also choose to skip `tilt_step`, since there is a more straightforward way to do this just using $\\Delta \\phi = 5$.\n",
    "\n",
    "*Hint: to determine `step_len`, determine how many 5's it would take to go from -90 to 90 using `tilt_min`, and `tilt_max`. Use `step_len` in your implementation for `steps`.* Make sure `step_len` is an `int`.\n"
   ]
  },
  {
   "cell_type": "markdown",
   "metadata": {
    "deletable": false,
    "editable": false
   },
   "source": [
    "<!-- BEGIN QUESTION -->\n",
    "\n"
   ]
  },
  {
   "cell_type": "code",
   "execution_count": null,
   "metadata": {
    "tags": []
   },
   "outputs": [],
   "source": [
    "tilt_start = ...\n",
    "tilt_end = ...\n",
    "\n",
    "tilts_len = ...\n",
    "tilt_step = ...\n"
   ]
  },
  {
   "cell_type": "code",
   "execution_count": null,
   "metadata": {
    "deletable": false,
    "editable": false
   },
   "outputs": [],
   "source": [
    "grader.check(\"q1c\")"
   ]
  },
  {
   "cell_type": "markdown",
   "metadata": {
    "deletable": false,
    "editable": false
   },
   "source": [
    "<!-- END QUESTION -->\n",
    "\n",
    "### part d)\n",
    "\n",
    "Now we can build our `for`-loop. It should have the following functionality:\n",
    "\n",
    "1. Rotate our nanoparticle.\n",
    "2. Get its projected potential using `ase_to_potential`.\n",
    "3. Append the projected potential to a `list`.\n",
    "4. Append the current tilt angle to another `list`.\n",
    "\n",
    "The code below is partially completed for you, and is rotated to the beginning orientation."
   ]
  },
  {
   "cell_type": "markdown",
   "metadata": {
    "deletable": false,
    "editable": false
   },
   "source": [
    "<!-- BEGIN QUESTION -->\n",
    "\n"
   ]
  },
  {
   "cell_type": "code",
   "execution_count": null,
   "metadata": {
    "tags": []
   },
   "outputs": [],
   "source": [
    "to_rotate = nanoparticle.copy() # Copies the original nanoparticle\n",
    "\n",
    "center = (15, 15, 15) # Center of the unit cell.\n",
    "to_rotate.rotate(tilt_start, v='y', center = center) # Rotate the nanoparticle to the starting orientation.\n",
    "\n",
    "curr_angle = tilt_start # Current angle.\n",
    "projected_images = [] # List for projected images.\n",
    "tilt_angles = [] # List for current tilt angle.\n",
    "\n",
    "# Append current starting orientation.\n",
    "projected_images.append(ase_to_potential(to_rotate)) # Projected potential\n",
    "tilt_angles.append(curr_angle) # Current tilt angle\n",
    "\n",
    "\n",
    "for i in range(tilts_len):\n",
    "    ..."
   ]
  },
  {
   "cell_type": "code",
   "execution_count": null,
   "metadata": {
    "tags": []
   },
   "outputs": [],
   "source": [
    "'''\n",
    "The below cell is not graded, but you should use ax.imshow, which scans through the projected_images list using [ind]\n",
    "'''\n",
    "# Check if your data makes sense. I.e, ind=0 and ind=-1 should be the same!\n",
    "ind = 24\n",
    "fig, ax = plt.subplots()\n",
    "fig.suptitle(f\"Projected Potential at {tilt_angles[ind]}\")\n",
    "im = ...\n"
   ]
  },
  {
   "cell_type": "code",
   "execution_count": null,
   "metadata": {
    "deletable": false,
    "editable": false
   },
   "outputs": [],
   "source": [
    "grader.check(\"q1d\")"
   ]
  },
  {
   "cell_type": "markdown",
   "metadata": {
    "deletable": false,
    "editable": false
   },
   "source": [
    "<!-- END QUESTION -->\n",
    "\n",
    "We have successfully created a tomography dataset, ready for reconstruction! This example shows where using a function (`ase_to_potential`) makes sense to make your code readable, as well as where a `for`-loop is necessary to perform the task given. Unfortunately, datahub will not let me install `tomopy` (a framework for doing tomographic reconstruction). So for fun, I will also upload an additional notebook that you can put into Google Colab, which continues from where we left off in this assignment.\n",
    "\n",
    "In the next computational assignment, you will gain more hands-on experience with building your own functions, and using `for`-loops."
   ]
  },
  {
   "cell_type": "code",
   "execution_count": null,
   "metadata": {},
   "outputs": [],
   "source": []
  },
  {
   "cell_type": "markdown",
   "metadata": {
    "deletable": false,
    "editable": false
   },
   "source": [
    "## Submission\n",
    "\n",
    "Make sure you have run all cells in your notebook in order before running the cell below, so that all images/graphs appear in the output. The cell below will generate a zip file for you to submit. **Please save before exporting!**"
   ]
  },
  {
   "cell_type": "code",
   "execution_count": null,
   "metadata": {
    "deletable": false,
    "editable": false
   },
   "outputs": [],
   "source": [
    "# Save your notebook first, then run this cell to export your submission.\n",
    "grader.export(run_tests=True)"
   ]
  },
  {
   "cell_type": "markdown",
   "metadata": {},
   "source": [
    " "
   ]
  }
 ],
 "metadata": {
  "kernelspec": {
   "display_name": "Python 3 (ipykernel)",
   "language": "python",
   "name": "python3"
  },
  "language_info": {
   "codemirror_mode": {
    "name": "ipython",
    "version": 3
   },
   "file_extension": ".py",
   "mimetype": "text/x-python",
   "name": "python",
   "nbconvert_exporter": "python",
   "pygments_lexer": "ipython3",
   "version": "3.12.4"
  },
  "otter": {
   "OK_FORMAT": true,
   "tests": {
    "q1a": {
     "name": "q1a",
     "points": 1,
     "suites": [
      {
       "cases": [
        {
         "code": ">>> bool(np.isclose(x[12], 4.804999999999998))\nTrue",
         "hidden": false,
         "locked": false
        },
        {
         "code": ">>> bool(np.sum(y) == 10125.0)\nTrue",
         "hidden": false,
         "locked": false
        },
        {
         "code": ">>> bool(np.average(z) == 15.0)\nTrue",
         "hidden": false,
         "locked": false
        }
       ],
       "scored": true,
       "setup": "",
       "teardown": "",
       "type": "doctest"
      }
     ]
    },
    "q1b": {
     "name": "q1b",
     "points": 3,
     "suites": [
      {
       "cases": [
        {
         "code": ">>> bool(type(ase_to_potential(nanoparticle)) == np.ndarray)\nTrue",
         "hidden": false,
         "locked": false
        },
        {
         "code": ">>> bool(np.shape(test) == (120, 120))\nTrue",
         "hidden": false,
         "locked": false
        },
        {
         "code": ">>> bool(np.isclose(np.average(test), 378.9523))\nTrue",
         "hidden": false,
         "locked": false
        }
       ],
       "scored": true,
       "setup": "",
       "teardown": "",
       "type": "doctest"
      }
     ]
    },
    "q1c": {
     "name": "q1c",
     "points": 1,
     "suites": [
      {
       "cases": [
        {
         "code": ">>> bool(tilts_len == 36)\nTrue",
         "hidden": false,
         "locked": false
        },
        {
         "code": ">>> bool(type(tilts_len) == int)\nTrue",
         "hidden": false,
         "locked": false
        }
       ],
       "scored": true,
       "setup": "",
       "teardown": "",
       "type": "doctest"
      }
     ]
    },
    "q1d": {
     "name": "q1d",
     "points": 5,
     "suites": [
      {
       "cases": [
        {
         "code": ">>> bool(tilt_angles[1] == -85)\nTrue",
         "hidden": false,
         "locked": false
        },
        {
         "code": ">>> bool(np.all(tilt_angles == np.arange(-90, 95, 5)))\nTrue",
         "hidden": false,
         "locked": false
        },
        {
         "code": ">>> bool(np.isclose(np.sum(projected_images[0][0]), 85, rtol=0.1))\nTrue",
         "hidden": false,
         "locked": false
        },
        {
         "code": ">>> bool(np.isclose(np.sum(projected_images[12][5]), 518.1994))\nTrue",
         "hidden": false,
         "locked": false
        }
       ],
       "scored": true,
       "setup": "",
       "teardown": "",
       "type": "doctest"
      }
     ]
    }
   }
  }
 },
 "nbformat": 4,
 "nbformat_minor": 4
}
