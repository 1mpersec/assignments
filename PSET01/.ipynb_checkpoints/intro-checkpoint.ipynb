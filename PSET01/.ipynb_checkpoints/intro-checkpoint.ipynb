{
 "cells": [
  {
   "cell_type": "code",
   "execution_count": 61,
   "metadata": {},
   "outputs": [
    {
     "name": "stdout",
     "output_type": "stream",
     "text": [
      "Requirement already satisfied: otter-grader in /opt/anaconda3/lib/python3.12/site-packages (6.1.0)\n",
      "Requirement already satisfied: click<9.0.0,>=8.1.7 in /opt/anaconda3/lib/python3.12/site-packages (from otter-grader) (8.1.7)\n",
      "Requirement already satisfied: dill>=0.3.0 in /opt/anaconda3/lib/python3.12/site-packages (from otter-grader) (0.3.8)\n",
      "Requirement already satisfied: fica>=0.4.1 in /opt/anaconda3/lib/python3.12/site-packages (from otter-grader) (0.4.1)\n",
      "Requirement already satisfied: ipylab<2.0.0,>=1.0.0 in /opt/anaconda3/lib/python3.12/site-packages (from otter-grader) (1.0.0)\n",
      "Requirement already satisfied: ipython in /opt/anaconda3/lib/python3.12/site-packages (from otter-grader) (8.25.0)\n",
      "Requirement already satisfied: ipywidgets<9.0.0,>=8.1.5 in /opt/anaconda3/lib/python3.12/site-packages (from otter-grader) (8.1.5)\n",
      "Requirement already satisfied: jinja2<4.0,>=3.1 in /opt/anaconda3/lib/python3.12/site-packages (from otter-grader) (3.1.4)\n",
      "Requirement already satisfied: jupytext<2.0.0,>=1.16.4 in /opt/anaconda3/lib/python3.12/site-packages (from otter-grader) (1.16.6)\n",
      "Requirement already satisfied: nbconvert>=6.0.0 in /opt/anaconda3/lib/python3.12/site-packages (from nbconvert[webpdf]>=6.0.0; sys_platform != \"emscripten\" and sys_platform != \"wasi\"->otter-grader) (7.10.0)\n",
      "Requirement already satisfied: nbformat>=5.0.0 in /opt/anaconda3/lib/python3.12/site-packages (from otter-grader) (5.9.2)\n",
      "Requirement already satisfied: pandas>=2.0.0 in /opt/anaconda3/lib/python3.12/site-packages (from otter-grader) (2.2.2)\n",
      "Requirement already satisfied: python-on-whales<1.0.0,>=0.72.0 in /opt/anaconda3/lib/python3.12/site-packages (from otter-grader) (0.75.1)\n",
      "Requirement already satisfied: pyyaml<7,>=6 in /opt/anaconda3/lib/python3.12/site-packages (from otter-grader) (6.0.1)\n",
      "Requirement already satisfied: requests<3.0,>=2.31 in /opt/anaconda3/lib/python3.12/site-packages (from otter-grader) (2.32.2)\n",
      "Requirement already satisfied: wrapt<2.0.0,>=1.16.0 in /opt/anaconda3/lib/python3.12/site-packages (from otter-grader) (1.17.2)\n",
      "Requirement already satisfied: docutils in /opt/anaconda3/lib/python3.12/site-packages (from fica>=0.4.1->otter-grader) (0.18.1)\n",
      "Requirement already satisfied: sphinx in /opt/anaconda3/lib/python3.12/site-packages (from fica>=0.4.1->otter-grader) (7.3.7)\n",
      "Requirement already satisfied: comm>=0.1.3 in /opt/anaconda3/lib/python3.12/site-packages (from ipywidgets<9.0.0,>=8.1.5->otter-grader) (0.2.1)\n",
      "Requirement already satisfied: traitlets>=4.3.1 in /opt/anaconda3/lib/python3.12/site-packages (from ipywidgets<9.0.0,>=8.1.5->otter-grader) (5.14.3)\n",
      "Requirement already satisfied: widgetsnbextension~=4.0.12 in /opt/anaconda3/lib/python3.12/site-packages (from ipywidgets<9.0.0,>=8.1.5->otter-grader) (4.0.13)\n",
      "Requirement already satisfied: jupyterlab-widgets~=3.0.12 in /opt/anaconda3/lib/python3.12/site-packages (from ipywidgets<9.0.0,>=8.1.5->otter-grader) (3.0.13)\n",
      "Requirement already satisfied: decorator in /opt/anaconda3/lib/python3.12/site-packages (from ipython->otter-grader) (5.1.1)\n",
      "Requirement already satisfied: jedi>=0.16 in /opt/anaconda3/lib/python3.12/site-packages (from ipython->otter-grader) (0.18.1)\n",
      "Requirement already satisfied: matplotlib-inline in /opt/anaconda3/lib/python3.12/site-packages (from ipython->otter-grader) (0.1.6)\n",
      "Requirement already satisfied: prompt-toolkit<3.1.0,>=3.0.41 in /opt/anaconda3/lib/python3.12/site-packages (from ipython->otter-grader) (3.0.43)\n",
      "Requirement already satisfied: pygments>=2.4.0 in /opt/anaconda3/lib/python3.12/site-packages (from ipython->otter-grader) (2.15.1)\n",
      "Requirement already satisfied: stack-data in /opt/anaconda3/lib/python3.12/site-packages (from ipython->otter-grader) (0.2.0)\n",
      "Requirement already satisfied: pexpect>4.3 in /opt/anaconda3/lib/python3.12/site-packages (from ipython->otter-grader) (4.8.0)\n",
      "Requirement already satisfied: MarkupSafe>=2.0 in /opt/anaconda3/lib/python3.12/site-packages (from jinja2<4.0,>=3.1->otter-grader) (2.1.3)\n",
      "Requirement already satisfied: markdown-it-py>=1.0 in /opt/anaconda3/lib/python3.12/site-packages (from jupytext<2.0.0,>=1.16.4->otter-grader) (2.2.0)\n",
      "Requirement already satisfied: mdit-py-plugins in /opt/anaconda3/lib/python3.12/site-packages (from jupytext<2.0.0,>=1.16.4->otter-grader) (0.3.0)\n",
      "Requirement already satisfied: packaging in /opt/anaconda3/lib/python3.12/site-packages (from jupytext<2.0.0,>=1.16.4->otter-grader) (23.2)\n",
      "Requirement already satisfied: beautifulsoup4 in /opt/anaconda3/lib/python3.12/site-packages (from nbconvert>=6.0.0->nbconvert[webpdf]>=6.0.0; sys_platform != \"emscripten\" and sys_platform != \"wasi\"->otter-grader) (4.12.3)\n",
      "Requirement already satisfied: bleach!=5.0.0 in /opt/anaconda3/lib/python3.12/site-packages (from nbconvert>=6.0.0->nbconvert[webpdf]>=6.0.0; sys_platform != \"emscripten\" and sys_platform != \"wasi\"->otter-grader) (4.1.0)\n",
      "Requirement already satisfied: defusedxml in /opt/anaconda3/lib/python3.12/site-packages (from nbconvert>=6.0.0->nbconvert[webpdf]>=6.0.0; sys_platform != \"emscripten\" and sys_platform != \"wasi\"->otter-grader) (0.7.1)\n",
      "Requirement already satisfied: jupyter-core>=4.7 in /opt/anaconda3/lib/python3.12/site-packages (from nbconvert>=6.0.0->nbconvert[webpdf]>=6.0.0; sys_platform != \"emscripten\" and sys_platform != \"wasi\"->otter-grader) (5.7.2)\n",
      "Requirement already satisfied: jupyterlab-pygments in /opt/anaconda3/lib/python3.12/site-packages (from nbconvert>=6.0.0->nbconvert[webpdf]>=6.0.0; sys_platform != \"emscripten\" and sys_platform != \"wasi\"->otter-grader) (0.1.2)\n",
      "Requirement already satisfied: mistune<4,>=2.0.3 in /opt/anaconda3/lib/python3.12/site-packages (from nbconvert>=6.0.0->nbconvert[webpdf]>=6.0.0; sys_platform != \"emscripten\" and sys_platform != \"wasi\"->otter-grader) (2.0.4)\n",
      "Requirement already satisfied: nbclient>=0.5.0 in /opt/anaconda3/lib/python3.12/site-packages (from nbconvert>=6.0.0->nbconvert[webpdf]>=6.0.0; sys_platform != \"emscripten\" and sys_platform != \"wasi\"->otter-grader) (0.8.0)\n",
      "Requirement already satisfied: pandocfilters>=1.4.1 in /opt/anaconda3/lib/python3.12/site-packages (from nbconvert>=6.0.0->nbconvert[webpdf]>=6.0.0; sys_platform != \"emscripten\" and sys_platform != \"wasi\"->otter-grader) (1.5.0)\n",
      "Requirement already satisfied: tinycss2 in /opt/anaconda3/lib/python3.12/site-packages (from nbconvert>=6.0.0->nbconvert[webpdf]>=6.0.0; sys_platform != \"emscripten\" and sys_platform != \"wasi\"->otter-grader) (1.2.1)\n",
      "Requirement already satisfied: playwright in /opt/anaconda3/lib/python3.12/site-packages (from nbconvert[webpdf]>=6.0.0; sys_platform != \"emscripten\" and sys_platform != \"wasi\"->otter-grader) (1.50.0)\n",
      "Requirement already satisfied: fastjsonschema in /opt/anaconda3/lib/python3.12/site-packages (from nbformat>=5.0.0->otter-grader) (2.16.2)\n",
      "Requirement already satisfied: jsonschema>=2.6 in /opt/anaconda3/lib/python3.12/site-packages (from nbformat>=5.0.0->otter-grader) (4.19.2)\n",
      "Requirement already satisfied: numpy>=1.26.0 in /opt/anaconda3/lib/python3.12/site-packages (from pandas>=2.0.0->otter-grader) (1.26.4)\n",
      "Requirement already satisfied: python-dateutil>=2.8.2 in /opt/anaconda3/lib/python3.12/site-packages (from pandas>=2.0.0->otter-grader) (2.9.0.post0)\n",
      "Requirement already satisfied: pytz>=2020.1 in /opt/anaconda3/lib/python3.12/site-packages (from pandas>=2.0.0->otter-grader) (2024.1)\n",
      "Requirement already satisfied: tzdata>=2022.7 in /opt/anaconda3/lib/python3.12/site-packages (from pandas>=2.0.0->otter-grader) (2023.3)\n",
      "Requirement already satisfied: pydantic!=2.0.*,<3,>=2 in /opt/anaconda3/lib/python3.12/site-packages (from python-on-whales<1.0.0,>=0.72.0->otter-grader) (2.5.3)\n",
      "Requirement already satisfied: typing-extensions in /opt/anaconda3/lib/python3.12/site-packages (from python-on-whales<1.0.0,>=0.72.0->otter-grader) (4.11.0)\n",
      "Requirement already satisfied: charset-normalizer<4,>=2 in /opt/anaconda3/lib/python3.12/site-packages (from requests<3.0,>=2.31->otter-grader) (2.0.4)\n",
      "Requirement already satisfied: idna<4,>=2.5 in /opt/anaconda3/lib/python3.12/site-packages (from requests<3.0,>=2.31->otter-grader) (3.7)\n",
      "Requirement already satisfied: urllib3<3,>=1.21.1 in /opt/anaconda3/lib/python3.12/site-packages (from requests<3.0,>=2.31->otter-grader) (2.2.2)\n",
      "Requirement already satisfied: certifi>=2017.4.17 in /opt/anaconda3/lib/python3.12/site-packages (from requests<3.0,>=2.31->otter-grader) (2024.8.30)\n",
      "Requirement already satisfied: six>=1.9.0 in /opt/anaconda3/lib/python3.12/site-packages (from bleach!=5.0.0->nbconvert>=6.0.0->nbconvert[webpdf]>=6.0.0; sys_platform != \"emscripten\" and sys_platform != \"wasi\"->otter-grader) (1.16.0)\n",
      "Requirement already satisfied: webencodings in /opt/anaconda3/lib/python3.12/site-packages (from bleach!=5.0.0->nbconvert>=6.0.0->nbconvert[webpdf]>=6.0.0; sys_platform != \"emscripten\" and sys_platform != \"wasi\"->otter-grader) (0.5.1)\n",
      "Requirement already satisfied: parso<0.9.0,>=0.8.0 in /opt/anaconda3/lib/python3.12/site-packages (from jedi>=0.16->ipython->otter-grader) (0.8.3)\n",
      "Requirement already satisfied: attrs>=22.2.0 in /opt/anaconda3/lib/python3.12/site-packages (from jsonschema>=2.6->nbformat>=5.0.0->otter-grader) (23.1.0)\n",
      "Requirement already satisfied: jsonschema-specifications>=2023.03.6 in /opt/anaconda3/lib/python3.12/site-packages (from jsonschema>=2.6->nbformat>=5.0.0->otter-grader) (2023.7.1)\n",
      "Requirement already satisfied: referencing>=0.28.4 in /opt/anaconda3/lib/python3.12/site-packages (from jsonschema>=2.6->nbformat>=5.0.0->otter-grader) (0.30.2)\n",
      "Requirement already satisfied: rpds-py>=0.7.1 in /opt/anaconda3/lib/python3.12/site-packages (from jsonschema>=2.6->nbformat>=5.0.0->otter-grader) (0.10.6)\n",
      "Requirement already satisfied: platformdirs>=2.5 in /opt/anaconda3/lib/python3.12/site-packages (from jupyter-core>=4.7->nbconvert>=6.0.0->nbconvert[webpdf]>=6.0.0; sys_platform != \"emscripten\" and sys_platform != \"wasi\"->otter-grader) (3.10.0)\n",
      "Requirement already satisfied: mdurl~=0.1 in /opt/anaconda3/lib/python3.12/site-packages (from markdown-it-py>=1.0->jupytext<2.0.0,>=1.16.4->otter-grader) (0.1.0)\n",
      "Requirement already satisfied: jupyter-client>=6.1.12 in /opt/anaconda3/lib/python3.12/site-packages (from nbclient>=0.5.0->nbconvert>=6.0.0->nbconvert[webpdf]>=6.0.0; sys_platform != \"emscripten\" and sys_platform != \"wasi\"->otter-grader) (8.6.0)\n",
      "Requirement already satisfied: ptyprocess>=0.5 in /opt/anaconda3/lib/python3.12/site-packages (from pexpect>4.3->ipython->otter-grader) (0.7.0)\n",
      "Requirement already satisfied: wcwidth in /opt/anaconda3/lib/python3.12/site-packages (from prompt-toolkit<3.1.0,>=3.0.41->ipython->otter-grader) (0.2.5)\n",
      "Requirement already satisfied: annotated-types>=0.4.0 in /opt/anaconda3/lib/python3.12/site-packages (from pydantic!=2.0.*,<3,>=2->python-on-whales<1.0.0,>=0.72.0->otter-grader) (0.6.0)\n",
      "Requirement already satisfied: pydantic-core==2.14.6 in /opt/anaconda3/lib/python3.12/site-packages (from pydantic!=2.0.*,<3,>=2->python-on-whales<1.0.0,>=0.72.0->otter-grader) (2.14.6)\n",
      "Requirement already satisfied: soupsieve>1.2 in /opt/anaconda3/lib/python3.12/site-packages (from beautifulsoup4->nbconvert>=6.0.0->nbconvert[webpdf]>=6.0.0; sys_platform != \"emscripten\" and sys_platform != \"wasi\"->otter-grader) (2.5)\n",
      "Requirement already satisfied: pyee<13,>=12 in /opt/anaconda3/lib/python3.12/site-packages (from playwright->nbconvert[webpdf]>=6.0.0; sys_platform != \"emscripten\" and sys_platform != \"wasi\"->otter-grader) (12.1.1)\n",
      "Requirement already satisfied: greenlet<4.0.0,>=3.1.1 in /opt/anaconda3/lib/python3.12/site-packages (from playwright->nbconvert[webpdf]>=6.0.0; sys_platform != \"emscripten\" and sys_platform != \"wasi\"->otter-grader) (3.1.1)\n",
      "Requirement already satisfied: sphinxcontrib-applehelp in /opt/anaconda3/lib/python3.12/site-packages (from sphinx->fica>=0.4.1->otter-grader) (1.0.2)\n",
      "Requirement already satisfied: sphinxcontrib-devhelp in /opt/anaconda3/lib/python3.12/site-packages (from sphinx->fica>=0.4.1->otter-grader) (1.0.2)\n",
      "Requirement already satisfied: sphinxcontrib-jsmath in /opt/anaconda3/lib/python3.12/site-packages (from sphinx->fica>=0.4.1->otter-grader) (1.0.1)\n",
      "Requirement already satisfied: sphinxcontrib-htmlhelp>=2.0.0 in /opt/anaconda3/lib/python3.12/site-packages (from sphinx->fica>=0.4.1->otter-grader) (2.0.0)\n",
      "Requirement already satisfied: sphinxcontrib-serializinghtml>=1.1.9 in /opt/anaconda3/lib/python3.12/site-packages (from sphinx->fica>=0.4.1->otter-grader) (1.1.10)\n",
      "Requirement already satisfied: sphinxcontrib-qthelp in /opt/anaconda3/lib/python3.12/site-packages (from sphinx->fica>=0.4.1->otter-grader) (1.0.3)\n",
      "Requirement already satisfied: snowballstemmer>=2.0 in /opt/anaconda3/lib/python3.12/site-packages (from sphinx->fica>=0.4.1->otter-grader) (2.2.0)\n",
      "Requirement already satisfied: babel>=2.9 in /opt/anaconda3/lib/python3.12/site-packages (from sphinx->fica>=0.4.1->otter-grader) (2.11.0)\n",
      "Requirement already satisfied: alabaster~=0.7.14 in /opt/anaconda3/lib/python3.12/site-packages (from sphinx->fica>=0.4.1->otter-grader) (0.7.16)\n",
      "Requirement already satisfied: imagesize>=1.3 in /opt/anaconda3/lib/python3.12/site-packages (from sphinx->fica>=0.4.1->otter-grader) (1.4.1)\n",
      "Requirement already satisfied: executing in /opt/anaconda3/lib/python3.12/site-packages (from stack-data->ipython->otter-grader) (0.8.3)\n",
      "Requirement already satisfied: asttokens in /opt/anaconda3/lib/python3.12/site-packages (from stack-data->ipython->otter-grader) (2.0.5)\n",
      "Requirement already satisfied: pure-eval in /opt/anaconda3/lib/python3.12/site-packages (from stack-data->ipython->otter-grader) (0.2.2)\n",
      "Requirement already satisfied: pyzmq>=23.0 in /opt/anaconda3/lib/python3.12/site-packages (from jupyter-client>=6.1.12->nbclient>=0.5.0->nbconvert>=6.0.0->nbconvert[webpdf]>=6.0.0; sys_platform != \"emscripten\" and sys_platform != \"wasi\"->otter-grader) (25.1.2)\n",
      "Requirement already satisfied: tornado>=6.2 in /opt/anaconda3/lib/python3.12/site-packages (from jupyter-client>=6.1.12->nbclient>=0.5.0->nbconvert>=6.0.0->nbconvert[webpdf]>=6.0.0; sys_platform != \"emscripten\" and sys_platform != \"wasi\"->otter-grader) (6.4.1)\n",
      "Note: you may need to restart the kernel to use updated packages.\n"
     ]
    }
   ],
   "source": [
    "pip install otter-grader"
   ]
  },
  {
   "cell_type": "code",
   "execution_count": 62,
   "metadata": {
    "deletable": false,
    "editable": false
   },
   "outputs": [],
   "source": [
    "# Initialize Otter\n",
    "import otter\n",
    "grader = otter.Notebook(\"intro.ipynb\")"
   ]
  },
  {
   "cell_type": "markdown",
   "metadata": {},
   "source": [
    "# Introduction\n",
    "\n",
    "Welcome to Physics-112! As you may already know to satisfy the College of Computing, Data Science, and Society's Data Science Major's **physical science analytics** domain emphasis requirement, this class will have some programming components. **Our aim is not to scare you because of this requirement**, and we have attempted to make the assignments: as easy as possible, attempt to restrict computational problems to less than 1 hour, and still provide an ample learning experience. Like many of you I have also taken this class, and there's usually 3 reactions to the computational homeworks:\n",
    "\n",
    "1. Ugh, another computational homework? Why do I have to do this programming mumbo-jumbo, my research work only needs me to solve the 50th dimension in string theory using pen and paper!\n",
    "2. Ok, another computational assignment. At least we have ChatGPT to maybe get through this whole thing.\n",
    "3. Yes! I don't want to see another partition function in my life, finally another computational assignment!\n",
    "\n",
    "Of course there may be a mix of reactions (I was in the realm of liking partition functions, and *some* of the computational assignments), but you get the idea. So in lieu of the traditional computational homeworks that you may have seen in Physics 105, the *physics computational training* somewhere hidden in the department website, or 112 in the past years: our focus will be on giving you surface-level knowledge on how to answer research questions using computational techniques.\n",
    "\n",
    "For those who have taken CS or DS courses, we will be incorporating `otter-grader` -- an autograding framework for assignments. This may be a source of dread for those who have taken the DATA 8, and/or the CS 61 series or beyond. But, the idea is to make sure these assignments are graded equally. **And as long as you pass all of the public tests you will recieve 85% of your grade so a minimum of ~8.5 points per assignment**. We will also allow the usage of **Chat-GPT**! In fact, we encourage you to use any LLM model that you so desire. However, you should keep in mind the following when using these tools:\n",
    "\n",
    "1. Does ChatGPT's result physically make sense?\n",
    "2. **ALWAYS** check edge-cases before deploying.\n",
    "\n",
    "**Tl;dr: The computational assignments *should* not take the bulk of time spent on homeworks, using Chat-GPT is OK, and we will use an autograder.**"
   ]
  },
  {
   "cell_type": "code",
   "execution_count": 64,
   "metadata": {},
   "outputs": [],
   "source": [
    "import numpy as np\n",
    "import scipy\n",
    "import matplotlib.pyplot as plt\n",
    "import time"
   ]
  },
  {
   "cell_type": "markdown",
   "metadata": {
    "editable": true,
    "slideshow": {
     "slide_type": ""
    },
    "tags": []
   },
   "source": [
    "# HW 0: Introductory Python Part 1\n",
    "\n",
    "| Question  | Points |\n",
    "|---|---|\n",
    "| 1a  | 1  | \n",
    "| 1b | 1  |\n",
    "| 2a  | 1  |\n",
    "|  2b | 1  | \n",
    "|  2c | 1  |\n",
    "|  2d | 1  |\n",
    "| 3a | 2 |\n",
    "| 3b | 2 |\n",
    "| 8 | 10 |\n",
    "\n",
    "## Learning Goals: Python, and `numpy` Basics\n",
    "\n",
    "The introductory python assignments that I was assigned in my physics classes were generally unhelpful, and useless. So what we will do instead is make a *reference* for you to use in the next 2-3 computational assignments that will be assigned to you. I.e, **the problems covered in this assignment may have answers to future computational problems.** Therefore, I recommend spending a little bit more effort into familiarzing oneself with the syntax of Python, and the general workflow of how to answer coding questions. Additionally, there are no hidden tests for this assignment. So as long as you pass the public tests, you will recieve full credit.\n",
    "\n",
    "The following problems will take a look at basic Python, and `numpy` functionality. I will try to provide as much explanation as I can, but if you still have questions I suggest to look at the documentation of these packages, watch some YouTube videos, look at stackexchange posts, or email me. The structure of the problems on this assignment will follow the trend of going from easy $\\to$ hard as follows: \n",
    "\n",
    "1. Instantiating variables, and Math Operations.\n",
    "2. Common Data Structures: Tuples, Lists, and `numpy` arrays.\n",
    "3. Vectorization and Linear Algebra\n",
    "\n",
    "We will also gain familiarity with reading documentation in the packages that are listed above. Here are some useful links:\n",
    "\n",
    "- https://numpy.org/doc/stable/index.html\n",
    "\n",
    "**Tip: Generally searching: \"How to do `x` in `numpy`\" in google wil lead to its documentation."
   ]
  },
  {
   "cell_type": "markdown",
   "metadata": {},
   "source": [
    "## Problem 1: Instantiating Variables, and Math Operations\n",
    "\n",
    "### Part a)\n",
    "Creating variables in Python is quite simple, and is analagous to tacking on a number to a variable in math. There are a large number of different datatypes, but for our cases we will only need to look at `int` (integer), `float` (real number), and `str` (letters). Consider the following example:"
   ]
  },
  {
   "cell_type": "code",
   "execution_count": 67,
   "metadata": {},
   "outputs": [],
   "source": [
    "an_integer = 1\n",
    "a_float = 3.1414141414141414\n",
    "a_string = \"Buddy Hield can't make a 3 pointer for his life.\""
   ]
  },
  {
   "cell_type": "markdown",
   "metadata": {},
   "source": [
    "Here's the problem:\n",
    "\n",
    "1. Make a variable `my_int`: I would like to add 111 to `an_integer` using the addition operator `+`. Don't just type 1+111 or 112, use the variable name `an_integer` in your solution.\n",
    "2. Make a variable `my_float`: I want to round `a_float` to `3.14` using [`np.round()`](https://numpy.org/doc/2.1/reference/generated/numpy.round.html). How can we use `np.round` in this situation?\n",
    "3. Make a variable `my_string`: I want to say that \"Buddy Hield can make a 3 pointer!\""
   ]
  },
  {
   "cell_type": "code",
   "execution_count": 116,
   "metadata": {
    "tags": []
   },
   "outputs": [
    {
     "data": {
      "text/plain": [
       "(112, 3.14, 'Buddy Hield can make a 3 pointer!')"
      ]
     },
     "execution_count": 116,
     "metadata": {},
     "output_type": "execute_result"
    }
   ],
   "source": [
    "my_int = an_integer +111\n",
    "my_float = np.round(a_float, 2)\n",
    "my_string = a_string.replace(\"can't\",\"can\").split(\" for\")[0] + \"!\"\n",
    "\n",
    "my_int, my_float, my_string"
   ]
  },
  {
   "cell_type": "code",
   "execution_count": 118,
   "metadata": {
    "deletable": false,
    "editable": false
   },
   "outputs": [
    {
     "data": {
      "text/html": [
       "<p><strong><pre style='display: inline;'>q1a</pre></strong> passed! 🎉</p>"
      ],
      "text/plain": [
       "q1a results: All test cases passed!"
      ]
     },
     "execution_count": 118,
     "metadata": {},
     "output_type": "execute_result"
    }
   ],
   "source": [
    "grader.check(\"q1a\")"
   ]
  },
  {
   "cell_type": "markdown",
   "metadata": {},
   "source": [
    "### Part b)\n",
    "\n",
    "Hopefully you were able to figure out that putting `+` means addition in Python. We will look at other math operations: `-` (subtraction), `/` (divide), `*` (multiply), and `**` (power) as these will be the ones you will often see.\n",
    "\n",
    "I want to compute the following:\n",
    "\n",
    "$$ 3 - \\frac{12^2}{5} \\times 16 $$ \n",
    "\n",
    "Write the operations explicitly in the cell below without using a calculator."
   ]
  },
  {
   "cell_type": "code",
   "execution_count": 72,
   "metadata": {
    "tags": []
   },
   "outputs": [
    {
     "data": {
      "text/plain": [
       "-457.8"
      ]
     },
     "execution_count": 72,
     "metadata": {},
     "output_type": "execute_result"
    }
   ],
   "source": [
    "to_compute = 3 - ((12**2)/5) * 16\n",
    "to_compute"
   ]
  },
  {
   "cell_type": "code",
   "execution_count": 73,
   "metadata": {
    "deletable": false,
    "editable": false
   },
   "outputs": [
    {
     "data": {
      "text/html": [
       "<p><strong><pre style='display: inline;'>q1b</pre></strong> passed! 🙌</p>"
      ],
      "text/plain": [
       "q1b results: All test cases passed!"
      ]
     },
     "execution_count": 73,
     "metadata": {},
     "output_type": "execute_result"
    }
   ],
   "source": [
    "grader.check(\"q1b\")"
   ]
  },
  {
   "cell_type": "markdown",
   "metadata": {
    "vscode": {
     "languageId": "raw"
    }
   },
   "source": [
    "## Problem 2: Data Structures\n",
    "\n",
    "*Data Structures* are ways where we can organize data, and how we can access data. The ones we will cover in this problem are:\n",
    "\n",
    "1. Lists\n",
    "2. Tuples\n",
    "4. NumPy arrays\n",
    "\n",
    "Rather than providing definitions for these, let's work through why/when we would use these data structures."
   ]
  },
  {
   "cell_type": "markdown",
   "metadata": {},
   "source": [
    "## Lists\n",
    "### Part a)\n",
    "\n",
    "Lists are created with the syntax `[]`. For example:\n",
    "\n",
    "```\n",
    "num_list = [1, 2, 3, 4]\n",
    "a_list_of_lists =[[1, 2, 3], [4, 5, 6], [7, 8, 9]]\n",
    "\n",
    "```\n",
    "\n",
    "In the cell below create a list of strings that has the following inputs in the same order: \"I\", \"hope\", \"the\", \"midterm\", \"will\", \"be\", and \"easy\"."
   ]
  },
  {
   "cell_type": "code",
   "execution_count": 76,
   "metadata": {
    "tags": []
   },
   "outputs": [
    {
     "data": {
      "text/plain": [
       "['I', 'hope', 'the', 'midterm', 'will', 'be', 'easy']"
      ]
     },
     "execution_count": 76,
     "metadata": {},
     "output_type": "execute_result"
    }
   ],
   "source": [
    "a_list_of_hopes = [\"I\",\"hope\",\"the\",\"midterm\",\"will\",\"be\",\"easy\"]\n",
    "a_list_of_hopes"
   ]
  },
  {
   "cell_type": "code",
   "execution_count": 77,
   "metadata": {
    "deletable": false,
    "editable": false
   },
   "outputs": [
    {
     "data": {
      "text/html": [
       "<p><strong><pre style='display: inline;'>q2a</pre></strong> passed! 💯</p>"
      ],
      "text/plain": [
       "q2a results: All test cases passed!"
      ]
     },
     "execution_count": 77,
     "metadata": {},
     "output_type": "execute_result"
    }
   ],
   "source": [
    "grader.check(\"q2a\")"
   ]
  },
  {
   "cell_type": "markdown",
   "metadata": {},
   "source": [
    "### part b)\n",
    "\n",
    "Lists are *mutable* data structure, i.e you are able to do operations on the list. The most common operations that you may run into are: `.append()`, `.extend()`, and indexing using `list[idx]`. There are more [operations](https://docs.python.org/3/tutorial/datastructures.html) that could also be helpful, however will probably not be needed for future implementations.\n",
    "\n",
    "For the list `a_list_of_hopes` append `no_hope` using `.append()`. *Extra Question: do you need to declare `a_list_of_hopes = x.append(y)`? Or do you just need to do `x.append(y)`? Try both out!*"
   ]
  },
  {
   "cell_type": "code",
   "execution_count": 79,
   "metadata": {
    "tags": []
   },
   "outputs": [
    {
     "name": "stdout",
     "output_type": "stream",
     "text": [
      "['I', 'hope', 'the', 'midterm', 'will', 'be', 'easy', ['Chien-I', 'said', 'it', \"won't\", 'be', 'curved']]\n"
     ]
    }
   ],
   "source": [
    "no_hope = [\"Chien-I\", \"said\", \"it\", \"won't\", \"be\", \"curved\"] # This is not true by the way.\n",
    "\n",
    "# Append no_hope to a_list_of_hopes\n",
    "a_list_of_hopes.append(no_hope)\n",
    "print(a_list_of_hopes)"
   ]
  },
  {
   "cell_type": "markdown",
   "metadata": {},
   "source": [
    "You may have noticed something strange, and now there is a list within a list! This is a common pitfall that will surely happen to you at some point. To fix this we'll use a (not efficient) way to solve this problem. Let's *slice* the list to redefine `a_list_of_hopes` back to its original defined state. Below are a few examples of ways of using the `[]` operator on lists."
   ]
  },
  {
   "cell_type": "code",
   "execution_count": 81,
   "metadata": {},
   "outputs": [
    {
     "name": "stdout",
     "output_type": "stream",
     "text": [
      "Get the first element of the list (the first element is indexed with a 0!):  0\n",
      "Get the last element of the list:  5\n",
      "Get the first two elements:  [0, 1]\n",
      "Get every second element of the list (inclusive):  [0, 2, 4]\n"
     ]
    }
   ],
   "source": [
    "example_list = [0, 1, 2, 3, 4, 5]\n",
    "print(\"Get the first element of the list (the first element is indexed with a 0!): \", example_list[0])\n",
    "print(\"Get the last element of the list: \", example_list[-1])\n",
    "print(\"Get the first two elements: \", example_list[:2])\n",
    "print(\"Get every second element of the list (inclusive): \", example_list[::2])"
   ]
  },
  {
   "cell_type": "markdown",
   "metadata": {},
   "source": [
    "Now let's fix a `a_list_of_hopes` **using slicing as shown above**, by assigning `fixed_list_of_hopes` with the correct slice. \n",
    "\n",
    "*Hint: we only want to get the first how many elements of our list?*.\n",
    "\n",
    "*Note: There is an easy way to do this by using `.pop()`, but use slicing just as an example in this case as it will be used extensively in future homeworks.*"
   ]
  },
  {
   "cell_type": "code",
   "execution_count": 83,
   "metadata": {
    "tags": []
   },
   "outputs": [
    {
     "data": {
      "text/plain": [
       "['I', 'hope', 'the', 'midterm', 'will', 'be', 'easy']"
      ]
     },
     "execution_count": 83,
     "metadata": {},
     "output_type": "execute_result"
    }
   ],
   "source": [
    "fixed_list_of_hopes = a_list_of_hopes[:7]\n",
    "fixed_list_of_hopes"
   ]
  },
  {
   "cell_type": "markdown",
   "metadata": {},
   "source": [
    "Now use `.extend()` on `fixed_list_of_hopes`, and see if that's the intended way of joining these two lists together."
   ]
  },
  {
   "cell_type": "markdown",
   "metadata": {},
   "source": [
    "_Type your answer here, replacing this text._"
   ]
  },
  {
   "cell_type": "code",
   "execution_count": 86,
   "metadata": {
    "tags": []
   },
   "outputs": [
    {
     "data": {
      "text/plain": [
       "['I',\n",
       " 'hope',\n",
       " 'the',\n",
       " 'midterm',\n",
       " 'will',\n",
       " 'be',\n",
       " 'easy',\n",
       " 'Chien-I',\n",
       " 'said',\n",
       " 'it',\n",
       " \"won't\",\n",
       " 'be',\n",
       " 'curved']"
      ]
     },
     "execution_count": 86,
     "metadata": {},
     "output_type": "execute_result"
    }
   ],
   "source": [
    "fixed_list_of_hopes.extend(no_hope)\n",
    "fixed_list_of_hopes"
   ]
  },
  {
   "cell_type": "code",
   "execution_count": 87,
   "metadata": {
    "deletable": false,
    "editable": false
   },
   "outputs": [
    {
     "data": {
      "text/html": [
       "<p><strong><pre style='display: inline;'>q2b</pre></strong> passed! 🙌</p>"
      ],
      "text/plain": [
       "q2b results: All test cases passed!"
      ]
     },
     "execution_count": 87,
     "metadata": {},
     "output_type": "execute_result"
    }
   ],
   "source": [
    "grader.check(\"q2b\")"
   ]
  },
  {
   "cell_type": "markdown",
   "metadata": {},
   "source": [
    "## Tuples\n",
    "### part c)\n",
    "\n",
    "Tuples (defined using the parantheses `()`) are sort of like lists in terms of indexing operations, however they are not *mutable*. Mutability just means that we cannot edit the elements of a data structure.  For example you will get an error for the following cell,"
   ]
  },
  {
   "cell_type": "code",
   "execution_count": 89,
   "metadata": {
    "editable": true,
    "slideshow": {
     "slide_type": ""
    },
    "tags": []
   },
   "outputs": [
    {
     "name": "stdout",
     "output_type": "stream",
     "text": [
      "Valid Operations: \n",
      " 1 (1, 1) (1, 2)\n"
     ]
    }
   ],
   "source": [
    "a_tuple = (1, 1, 2)\n",
    "\n",
    "print(\"Valid Operations: \\n\", a_tuple[0], a_tuple[:2], a_tuple[::2])\n",
    "\n",
    "# The following will throw an error\n",
    "# a_tuple[0] = 5"
   ]
  },
  {
   "cell_type": "markdown",
   "metadata": {},
   "source": [
    "You may then ask, why would we want to use tuples? As a guideline you should **use tuples when you don't expect to change the values of your list**. This may seem a little abstract, but take this into consideration in your future research/programming questions if you want to be able to edit your lists (which is not always true). Let's work through a use case example of this:\n",
    "\n",
    "```\n",
    "Your professor gives you a set list of coordinates in x, and y. He tells you, \"My data should represent a linear solution, but something is making it quadratic when I process my data! Debug this code for me, and maybe I'll give you a letter of rec.\"\n",
    "```\n",
    "\n",
    "Replicate your professor's data as a tuple, and see if you can fix his problem.\n"
   ]
  },
  {
   "cell_type": "code",
   "execution_count": 91,
   "metadata": {
    "tags": []
   },
   "outputs": [
    {
     "data": {
      "text/plain": [
       "<matplotlib.legend.Legend at 0x148f86360>"
      ]
     },
     "execution_count": 91,
     "metadata": {},
     "output_type": "execute_result"
    },
    {
     "data": {
      "image/png": "[encoded data removed]",
      "text/plain": [
       "<Figure size 640x480 with 1 Axes>"
      ]
     },
     "metadata": {},
     "output_type": "display_data"
    }
   ],
   "source": [
    "x_data = [1, 2, 3, 4, 5, 6]\n",
    "y_data = [1, 2, 3, 4, 5, 6]\n",
    "\n",
    "fixed_x_data = (1,2,3,4,5,6)\n",
    "fixed_y_data = (1,2,3,4,5,6)\n",
    "\n",
    "# Ignore the implementation below.\n",
    "def process_data(x_data, y_data):\n",
    "    \n",
    "    if type(x_data) == list and type(y_data) == list:\n",
    "        \n",
    "        return x_data, np.array(y_data)**2\n",
    "    \n",
    "    else:\n",
    "        return x_data, y_data\n",
    "\n",
    "new_x_data, new_y_data = process_data(x_data, y_data)\n",
    "new_fixed_x_data, new_fixed_y_data = process_data(fixed_x_data, fixed_y_data)\n",
    "\n",
    "plt.figure()\n",
    "plt.title(\"I Love Linear Plots\")\n",
    "plt.plot(new_x_data, new_y_data, label = \"Professors Data\")\n",
    "plt.plot(new_fixed_x_data, new_fixed_y_data, label = \"Fixed Data\")\n",
    "plt.legend()"
   ]
  },
  {
   "cell_type": "markdown",
   "metadata": {},
   "source": [
    "Although the example above may seem quite rudimentary, situations where your data is augmented in a unexpected way happens! Again remember, if you don't need to change the values always use a tuple!"
   ]
  },
  {
   "cell_type": "code",
   "execution_count": 93,
   "metadata": {
    "deletable": false,
    "editable": false
   },
   "outputs": [
    {
     "data": {
      "text/html": [
       "<p><strong><pre style='display: inline;'>q2c</pre></strong> passed! 🙌</p>"
      ],
      "text/plain": [
       "q2c results: All test cases passed!"
      ]
     },
     "execution_count": 93,
     "metadata": {},
     "output_type": "execute_result"
    }
   ],
   "source": [
    "grader.check(\"q2c\")"
   ]
  },
  {
   "cell_type": "markdown",
   "metadata": {},
   "source": [
    "## `numpy` Arrays\n",
    "\n",
    "`numpy` will be the most useful package you will use for research or other purposes. **Namely, you will be able to use math operations directly on your arrays!** Consider the following example,\n"
   ]
  },
  {
   "cell_type": "code",
   "execution_count": 95,
   "metadata": {},
   "outputs": [
    {
     "name": "stdout",
     "output_type": "stream",
     "text": [
      "[2 3 4 5 6]\n"
     ]
    }
   ],
   "source": [
    "my_list = [1, 2, 3, 4, 5]\n",
    "\n",
    "#print(my_list + 1) # Uncomment this code, and see if it will add 1 to each value.\n",
    "\n",
    "my_numpy_array = np.array([1, 2, 3, 4, 5])\n",
    "\n",
    "print(my_numpy_array + 1)"
   ]
  },
  {
   "cell_type": "markdown",
   "metadata": {},
   "source": [
    "There are other useful uses of numpy arrays that we will explore in the next few questions."
   ]
  },
  {
   "cell_type": "markdown",
   "metadata": {},
   "source": [
    "### part d)\n",
    "\n",
    "`numpy` arrays have the benefit of passing *conditionals* as an index, which will output the values that satisfy the condition. Let's look at the following example:"
   ]
  },
  {
   "cell_type": "code",
   "execution_count": 98,
   "metadata": {},
   "outputs": [
    {
     "name": "stdout",
     "output_type": "stream",
     "text": [
      "Original Array:  [1 2 3 4 5]\n",
      "Conditional Applied on Array:  [ True  True False False False]\n",
      "Passing boolean array to an array:  [1 2]\n"
     ]
    }
   ],
   "source": [
    "print(\"Original Array: \", my_numpy_array)\n",
    "print(\"Conditional Applied on Array: \", my_numpy_array < 3)\n",
    "print(\"Passing boolean array to an array: \", my_numpy_array[my_numpy_array < 3])"
   ]
  },
  {
   "cell_type": "markdown",
   "metadata": {
    "editable": true,
    "slideshow": {
     "slide_type": ""
    },
    "tags": []
   },
   "source": [
    "As shown above, passing a boolean array to an array, will return only the values with `True`.\n",
    "\n",
    "Let's work through a hard example. Below we construct a random set of points using a `numpy`'s `.random` module. In the code below, we generate a normally distributed array with *shape* `(2, 100)` (the first entry is the number of rows, and the second entry is the columns). "
   ]
  },
  {
   "cell_type": "code",
   "execution_count": 100,
   "metadata": {},
   "outputs": [
    {
     "name": "stdout",
     "output_type": "stream",
     "text": [
      "Shape of positions:  (2, 100)\n",
      "First 10 Data: \n",
      " [[0.37505713 0.64030462 0.95001658 0.0756772  0.77692966 0.83274576\n",
      "  0.05480574 0.81767738 0.88535146 0.72234651]\n",
      " [0.67457418 0.16714326 0.47813862 0.68111755 0.212837   0.39507988\n",
      "  0.20402452 0.20128378 0.34410546 0.68285187]]\n",
      "X data: \n",
      " [0.37505713 0.64030462 0.95001658 0.0756772  0.77692966 0.83274576\n",
      " 0.05480574 0.81767738 0.88535146 0.72234651]\n",
      "Y data: \n",
      " [0.67457418 0.16714326 0.47813862 0.68111755 0.212837   0.39507988\n",
      " 0.20402452 0.20128378 0.34410546 0.68285187]\n",
      "Average along row: \n",
      " [0.52481566 0.40372394 0.7140776  0.37839738 0.49488333 0.61391282\n",
      " 0.12941513 0.50948058 0.61472846 0.70259919]\n",
      "Average along column: \n",
      " [0.42555253 0.50839269]\n"
     ]
    },
    {
     "data": {
      "text/plain": [
       "<matplotlib.collections.PathCollection at 0x1492ce9c0>"
      ]
     },
     "execution_count": 100,
     "metadata": {},
     "output_type": "execute_result"
    },
    {
     "data": {
      "image/png": "[encoded data removed]",
      "text/plain": [
       "<Figure size 640x480 with 1 Axes>"
      ]
     },
     "metadata": {},
     "output_type": "display_data"
    }
   ],
   "source": [
    "# DO NOT CHANGE\n",
    "np.random.seed(112)\n",
    "\n",
    "# Initialize random set of positions where in the array we have two axes your row (0), and column (1).\n",
    "positions = np.random.random((2, 100)) # A randomly distributed set of points with a shape (dimensions of the array) (2 x 100).\n",
    "print(\"Shape of positions: \", positions.shape)\n",
    "# Data\n",
    "print(\"First 10 Data: \\n\", positions[:, :10])\n",
    "print(\"X data: \\n\", positions[0, :10]) \n",
    "print(\"Y data: \\n\", positions[1, :10])\n",
    "\n",
    "# Showing axes\n",
    "print(\"Average along row: \\n\", np.average(positions, axis = 0)[:10])\n",
    "print(\"Average along column: \\n\", np.average(positions, axis = 1)[:10])\n",
    "\n",
    "plt.figure()\n",
    "plt.scatter(positions[0], positions[1]) # postions[0] is the x data, and positions[1] is the y data."
   ]
  },
  {
   "cell_type": "markdown",
   "metadata": {},
   "source": [
    "Now here's the problem: I want to visualize that all the particles above and equal to 0.5 are the color red, and anything below that is blue. Note in Python you can use the comparison operators: `<` (less than), `>` (greater than), `<=` (less than or equal to), and `>=` (greater than or equal to).\n",
    "\n",
    "*Hint: Think carefully how we defined our x and y data above.*\n",
    "*Hint: `numpy` is quite smart in how it handles passing arrays as a conditional consider the following example (**this is relevant to future computational homeworks**):*"
   ]
  },
  {
   "cell_type": "code",
   "execution_count": 102,
   "metadata": {},
   "outputs": [
    {
     "name": "stdout",
     "output_type": "stream",
     "text": [
      "Example Numpy Array: \n",
      " [[ 1  2  3  4  5]\n",
      " [ 6  7  8  9 10]]\n",
      "Shape:  (2, 5)\n",
      "Passing Boolean array on the first row of data: \n",
      " [1 3 4]\n",
      "Passing Boolean array on the second row of data: \n",
      " [6 8 9]\n",
      "Apply the Boolean array to each row of data: \n",
      " [[1 3 4]\n",
      " [6 8 9]]\n",
      "Passing boolean array on the whole test array: \n",
      " [[1 2 3 4 5]]\n"
     ]
    }
   ],
   "source": [
    "a_numpy_array = np.array([np.arange(1, 6), np.arange(6, 11)])\n",
    "print(\"Example Numpy Array: \\n\", a_numpy_array)\n",
    "print(\"Shape: \", a_numpy_array.shape)\n",
    "\n",
    "test_bool = [True, False, True, True, False]\n",
    "\n",
    "print(\"Passing Boolean array on the first row of data: \\n\", a_numpy_array[0, test_bool])\n",
    "print(\"Passing Boolean array on the second row of data: \\n\", a_numpy_array[1, test_bool])\n",
    "print(\"Apply the Boolean array to each row of data: \\n\", a_numpy_array[:, test_bool]) # Notice the usage of :\n",
    "\n",
    "test_bool = [True, False]\n",
    "\n",
    "print(\"Passing boolean array on the whole test array: \\n\", a_numpy_array[test_bool])"
   ]
  },
  {
   "cell_type": "code",
   "execution_count": 103,
   "metadata": {
    "scrolled": true,
    "tags": []
   },
   "outputs": [],
   "source": [
    "# reds and blues should be boolean arrays.\n",
    "reds = positions[1] >= 0.5\n",
    "blues = positions[1] < 0.5\n",
    "\n",
    "#red_x, and red_y should be the positions of the red particles.\n",
    "red_x = positions[0, reds]\n",
    "red_y = positions[1, reds]\n",
    "\n",
    "#blue_x, and blue_y should be the positions of the blue particles.\n",
    "blue_x = positions[0,blues]\n",
    "blue_y = positions[1,blues]"
   ]
  },
  {
   "cell_type": "code",
   "execution_count": 104,
   "metadata": {},
   "outputs": [
    {
     "data": {
      "text/plain": [
       "<matplotlib.collections.PathCollection at 0x1491ad220>"
      ]
     },
     "execution_count": 104,
     "metadata": {},
     "output_type": "execute_result"
    },
    {
     "data": {
      "image/png": "[encoded data removed]",
      "text/plain": [
       "<Figure size 640x480 with 1 Axes>"
      ]
     },
     "metadata": {},
     "output_type": "display_data"
    }
   ],
   "source": [
    "plt.figure()\n",
    "plt.scatter(red_x, red_y, color = 'red')\n",
    "plt.scatter(blue_x, blue_y, color = 'blue')"
   ]
  },
  {
   "cell_type": "code",
   "execution_count": 105,
   "metadata": {
    "deletable": false,
    "editable": false
   },
   "outputs": [
    {
     "data": {
      "text/html": [
       "<p><strong><pre style='display: inline;'>q2d</pre></strong> passed! 🙌</p>"
      ],
      "text/plain": [
       "q2d results: All test cases passed!"
      ]
     },
     "execution_count": 105,
     "metadata": {},
     "output_type": "execute_result"
    }
   ],
   "source": [
    "grader.check(\"q2d\")"
   ]
  },
  {
   "cell_type": "markdown",
   "metadata": {},
   "source": [
    "# Vectorization and Linear Algebra\n",
    "\n",
    "Vectorization is an important skill to pick up for research programming, as it will often speed-up your code order of magnitudes. The next few problems will be exploring vectorization, and doing matrix operations in Python. Let's first consider two implementations of the dot product using vectorization, and a for-loop (we will cover this in the next assignment)."
   ]
  },
  {
   "cell_type": "code",
   "execution_count": 107,
   "metadata": {},
   "outputs": [
    {
     "name": "stdout",
     "output_type": "stream",
     "text": [
      "Took  0.6495418548583984 s to finish dot product computation.\n",
      "Took  0.0011820793151855469 s to finish dot product computation.\n"
     ]
    }
   ],
   "source": [
    "array_1 = np.arange(0, 1e6)\n",
    "array_2 = np.arange(0, 1e6)\n",
    "\n",
    "dot_product_slow = 0\n",
    "start_time = time.time()\n",
    "for i in range(len(array_1)):  # Manually iterating through indices\n",
    "    dot_product_slow += array_1[i] * array_2[i]\n",
    "    \n",
    "end_time = time.time() - start_time\n",
    "print(\"Took \", end_time, \"s to finish dot product computation.\")\n",
    "\n",
    "start_time = time.time()\n",
    "dot_product_fast = np.dot(array_1, array_2)\n",
    "end_time = time.time() - start_time\n",
    "\n",
    "print(\"Took \", end_time, \"s to finish dot product computation.\")"
   ]
  },
  {
   "cell_type": "markdown",
   "metadata": {},
   "source": [
    "As you can see `numpy`'s built in dot product is orders of magnitude faster than our slow implementation of the dot product. We can also do matrix operations using the symbols `@` (matrix multiplication), and `.T` for taking the transpose of a matrix. For example,"
   ]
  },
  {
   "cell_type": "code",
   "execution_count": 109,
   "metadata": {},
   "outputs": [
    {
     "name": "stdout",
     "output_type": "stream",
     "text": [
      "Current Matrix: \n",
      " [[1 2 3]\n",
      " [4 5 6]\n",
      " [7 8 9]]\n",
      "Transpose Matrix: \n",
      " [[1 4 7]\n",
      " [2 5 8]\n",
      " [3 6 9]]\n",
      "Matrix Multiplication: \n",
      " [[ 16  29  10]\n",
      " [ 43  89  28]\n",
      " [ 70 149  46]]\n"
     ]
    }
   ],
   "source": [
    "my_matrix = np.array(\n",
    "    [\n",
    "        [1, 2, 3],\n",
    "        [4, 5, 6],\n",
    "        [7, 8, 9]\n",
    "    ]\n",
    ")\n",
    "\n",
    "to_multiply_matrix = np.array(\n",
    "    [\n",
    "        [4, 12, 3],\n",
    "        [3, 7, 2],\n",
    "        [2, 1, 1]\n",
    "    ]\n",
    ")\n",
    "\n",
    "print(\"Current Matrix: \\n\", my_matrix)\n",
    "print(\"Transpose Matrix: \\n\", my_matrix.T)\n",
    "print(\"Matrix Multiplication: \\n\", my_matrix @ to_multiply_matrix)"
   ]
  },
  {
   "cell_type": "markdown",
   "metadata": {},
   "source": [
    "## Problem 3\n",
    "### part a)\n",
    "\n",
    "Given a set of 2D particle positions, apply the rotation matrix to each particle where $\\theta = 45^\\circ$,\n",
    "\n",
    "$$ R = \\begin{bmatrix} \n",
    "\\cos(\\theta) & -\\sin(\\theta) \\\\\n",
    "\\sin(\\theta) & \\cos(\\theta)\n",
    "\\end{bmatrix}$$\n",
    "\n",
    "When applying a rotation to a vector the general equation is,\n",
    "\n",
    "$$ \\mathbf{v'} = \\mathbf{R}\\mathbf{v}$$\n",
    "\n",
    "*Hint: Use `np.sin`, and `np.cos` to create your rotation matrix. Search online whether `np.sin` takes in degrees or radians. Find out a way to do a conversion to degrees if necessary.*\n",
    "\n",
    "*Hint: if you're confused, try applying the rotation matrix to one point first, then see how you can apply it in a vectorized way. If you're still confused consider asking ChatGPT the correct implementation*.\n"
   ]
  },
  {
   "cell_type": "code",
   "execution_count": 136,
   "metadata": {
    "tags": []
   },
   "outputs": [
    {
     "data": {
      "text/plain": [
       "array([[ 6.36396103, 10.60660172],\n",
       "       [ 0.70710678,  3.53553391],\n",
       "       [-4.24264069, 12.72792206]])"
      ]
     },
     "execution_count": 136,
     "metadata": {},
     "output_type": "execute_result"
    }
   ],
   "source": [
    "particle_positions = np.array([[12, 3],\n",
    "                            [3, 2],\n",
    "                            [6, 12]])\n",
    "\n",
    "theta = 45 * np.pi/180\n",
    "R = np.array([[np.cos(theta), -np.sin(theta)],\n",
    "              [np.sin(theta), np.cos(theta)]])\n",
    "\n",
    "# rotated gives the rotated positions of the particles.\n",
    "rotated = particle_positions @ R.T\n",
    "\n",
    "rotated"
   ]
  },
  {
   "cell_type": "code",
   "execution_count": 138,
   "metadata": {
    "deletable": false,
    "editable": false
   },
   "outputs": [
    {
     "data": {
      "text/html": [
       "<p><strong><pre style='display: inline;'>q3a</pre></strong> passed! 🌈</p>"
      ],
      "text/plain": [
       "q3a results: All test cases passed!"
      ]
     },
     "execution_count": 138,
     "metadata": {},
     "output_type": "execute_result"
    }
   ],
   "source": [
    "grader.check(\"q3a\")"
   ]
  },
  {
   "cell_type": "markdown",
   "metadata": {},
   "source": [
    "### part b)\n",
    "\n",
    "In the next problem we will consider two sets of 2D vectors,\n",
    "\n",
    "$$ \\{\\mathbf{a}_1, \\mathbf{a}_2, ..., \\mathbf{a}_{10} \\} $$\n",
    "\n",
    "and\n",
    "\n",
    "$$ \\{\\mathbf{b}_1, \\mathbf{b}_2, ..., \\mathbf{b}_{10} \\}. $$\n",
    "\n",
    "We want to calculate the dot products between vectors from the two sets of vectors of the same label and return a list of their dot products\n",
    "\n",
    "$$ \\{\\mathbf{a}_1\\cdot \\mathbf{b}_1,\\; \\mathbf{a}_2\\cdot \\mathbf{b}_2, ...,\\; \\mathbf{a}_{10}\\cdot \\mathbf{b}_{10}  \\}.$$\n",
    "\n",
    "We will do this by first creating two arrays `a` and `b` of shape `(2, 10)` that represent the two sets of vectors. You can think of `a` as a matrix $ a_{i\\alpha} $ where the $i$ index labels the $x-$ and $y$-component of the vectors, and $\\alpha =1, 2, ..., 10$ tells us which vector in the first set we are referring.  Similarly, `b` can be thought of as a matrix $ b_{j \\beta}$. Then, the following operation, in the index notation with Einstein convention,\n",
    "$$(a^T)_{\\alpha k} b_{k\\beta}$$\n",
    "gives us the dot product between the $\\alpha$th vector in the first set and the $\\beta$th vector in the second set. \n",
    "\n",
    "Following this chain of thought, obtain the list\n",
    "\n",
    "$$ \\{\\mathbf{a}_1\\cdot \\mathbf{b}_1,\\; \\mathbf{a}_2\\cdot \\mathbf{b}_2, ...,\\; \\mathbf{a}_{10}\\cdot \\mathbf{b}_{10}  \\}.$$\n",
    "\n",
    "\n",
    "\n",
    "*Hint: Note that a simple implementation of the dot product will not suffice since we're working with an array of multiple vectors. You might want to find a numpy function that can list diagonal elements of an array. Your answer should only be 1 line.* **This question is relevant for a future computational assignment.**"
   ]
  },
  {
   "cell_type": "code",
   "execution_count": 168,
   "metadata": {
    "tags": []
   },
   "outputs": [
    {
     "name": "stdout",
     "output_type": "stream",
     "text": [
      "(10,)\n"
     ]
    }
   ],
   "source": [
    "# DO NOT CHANGE\n",
    "np.random.seed(112)\n",
    "#\n",
    "\n",
    "a = np.random.random((2, 10))\n",
    "b = np.random.random((2, 10))\n",
    "\n",
    "# This should give a list of dot products that we want to calculate\n",
    "dot_product = np.sum(a * b, axis=0)\n",
    "\n",
    "print(dot_product.shape)"
   ]
  },
  {
   "cell_type": "code",
   "execution_count": 170,
   "metadata": {
    "deletable": false,
    "editable": false
   },
   "outputs": [
    {
     "data": {
      "text/html": [
       "<p><strong><pre style='display: inline;'>q3b</pre></strong> passed! 🍀</p>"
      ],
      "text/plain": [
       "q3b results: All test cases passed!"
      ]
     },
     "execution_count": 170,
     "metadata": {},
     "output_type": "execute_result"
    }
   ],
   "source": [
    "grader.check(\"q3b\")"
   ]
  },
  {
   "cell_type": "markdown",
   "metadata": {
    "editable": true,
    "slideshow": {
     "slide_type": ""
    },
    "tags": []
   },
   "source": [
    "# End and Directions for Submitting Work\n",
    "\n",
    "Congratulations, you have finished your first computational assignment! Next time we will cover curve fitting, loops, and functional programming which will be important for future computational assignments. \n",
    "\n",
    "**For those who have no experience with `otter` please read the following:**\n",
    "\n",
    "1. Download the .zip file at the bottom of this assignment, **MAKE SURE TO SAVE BEFORE DOWNLOADING.**\n",
    "2. Go to gradescope, and **upload the full zip file** to the assignment."
   ]
  },
  {
   "cell_type": "code",
   "execution_count": null,
   "metadata": {
    "editable": true,
    "slideshow": {
     "slide_type": ""
    },
    "tags": []
   },
   "outputs": [],
   "source": []
  },
  {
   "cell_type": "markdown",
   "metadata": {
    "deletable": false,
    "editable": false
   },
   "source": [
    "## Submission\n",
    "\n",
    "Make sure you have run all cells in your notebook in order before running the cell below, so that all images/graphs appear in the output. The cell below will generate a zip file for you to submit. **Please save before exporting!**"
   ]
  },
  {
   "cell_type": "code",
   "execution_count": null,
   "metadata": {
    "deletable": false,
    "editable": false
   },
   "outputs": [],
   "source": [
    "# Save your notebook first, then run this cell to export your submission.\n",
    "grader.export(pdf=False, run_tests=True)"
   ]
  },
  {
   "cell_type": "markdown",
   "metadata": {},
   "source": [
    " "
   ]
  }
 ],
 "metadata": {
  "kernelspec": {
   "display_name": "Python 3 (ipykernel)",
   "language": "python",
   "name": "python3"
  },
  "language_info": {
   "codemirror_mode": {
    "name": "ipython",
    "version": 3
   },
   "file_extension": ".py",
   "mimetype": "text/x-python",
   "name": "python",
   "nbconvert_exporter": "python",
   "pygments_lexer": "ipython3",
   "version": "3.12.4"
  },
  "otter": {
   "OK_FORMAT": true,
   "tests": {
    "q1a": {
     "name": "q1a",
     "points": null,
     "suites": [
      {
       "cases": [
        {
         "code": ">>> my_int == 112\nTrue",
         "hidden": false,
         "locked": false
        },
        {
         "code": ">>> bool(np.bool_(my_float == 3.14)) == True\nTrue",
         "hidden": false,
         "locked": false
        },
        {
         "code": ">>> str.lower(my_string) == str.lower(\"Buddy Hield can make a 3 pointer!\")\nTrue",
         "hidden": false,
         "locked": false
        }
       ],
       "scored": true,
       "setup": "",
       "teardown": "",
       "type": "doctest"
      }
     ]
    },
    "q1b": {
     "name": "q1b",
     "points": null,
     "suites": [
      {
       "cases": [
        {
         "code": ">>> to_compute == -457.8\nTrue",
         "hidden": false,
         "locked": false
        },
        {
         "code": ">>> type(to_compute) == float\nTrue",
         "hidden": false,
         "locked": false
        }
       ],
       "scored": true,
       "setup": "",
       "teardown": "",
       "type": "doctest"
      }
     ]
    },
    "q2a": {
     "name": "q2a",
     "points": null,
     "suites": [
      {
       "cases": [
        {
         "code": ">>> a_list_of_hopes[0] == 'I'\nTrue",
         "hidden": false,
         "locked": false
        },
        {
         "code": ">>> a_list_of_hopes[5] == 'be'\nTrue",
         "hidden": false,
         "locked": false
        },
        {
         "code": ">>> len(a_list_of_hopes) == 7\nTrue",
         "hidden": false,
         "locked": false
        }
       ],
       "scored": true,
       "setup": "",
       "teardown": "",
       "type": "doctest"
      }
     ]
    },
    "q2b": {
     "name": "q2b",
     "points": null,
     "suites": [
      {
       "cases": [
        {
         "code": ">>> len(a_list_of_hopes) == 8\nTrue",
         "hidden": false,
         "locked": false
        },
        {
         "code": ">>> a_list_of_hopes[-1] == no_hope\nTrue",
         "hidden": false,
         "locked": false
        },
        {
         "code": ">>> len(fixed_list_of_hopes) == 13\nTrue",
         "hidden": false,
         "locked": false
        },
        {
         "code": ">>> fixed_list_of_hopes[-1] == 'curved'\nTrue",
         "hidden": false,
         "locked": false
        }
       ],
       "scored": true,
       "setup": "",
       "teardown": "",
       "type": "doctest"
      }
     ]
    },
    "q2c": {
     "name": "q2c",
     "points": null,
     "suites": [
      {
       "cases": [
        {
         "code": ">>> type(fixed_x_data) == tuple and type(fixed_y_data) == tuple\nTrue",
         "hidden": false,
         "locked": false
        },
        {
         "code": ">>> fixed_y_data[2] == 3\nTrue",
         "hidden": false,
         "locked": false
        }
       ],
       "scored": true,
       "setup": "",
       "teardown": "",
       "type": "doctest"
      }
     ]
    },
    "q2d": {
     "name": "q2d",
     "points": null,
     "suites": [
      {
       "cases": [
        {
         "code": ">>> len(np.where(blues)[0]) + len(np.where(reds)[0]) == 100\nTrue",
         "hidden": false,
         "locked": false
        },
        {
         "code": ">>> len(np.where((blues))[0]) == 50\nTrue",
         "hidden": false,
         "locked": false
        },
        {
         "code": ">>> bool(np.where(blues)[0][12] == 21)\nTrue",
         "hidden": false,
         "locked": false
        },
        {
         "code": ">>> bool(np.where(reds)[0][42] == 89)\nTrue",
         "hidden": false,
         "locked": false
        }
       ],
       "scored": true,
       "setup": "",
       "teardown": "",
       "type": "doctest"
      }
     ]
    },
    "q3a": {
     "name": "q3a",
     "points": 2,
     "suites": [
      {
       "cases": [
        {
         "code": ">>> bool(np.all(np.isclose(R, np.array([[ 0.70710678, -0.70710678], [ 0.70710678,  0.70710678]]))) == True)\nTrue",
         "hidden": false,
         "locked": false
        },
        {
         "code": ">>> bool(np.all(np.isclose(rotated[1], R @ particle_positons[1])) == True)\nTrue",
         "hidden": false,
         "locked": false
        }
       ],
       "scored": true,
       "setup": "",
       "teardown": "",
       "type": "doctest"
      }
     ]
    },
    "q3b": {
     "name": "q3b",
     "points": 2,
     "suites": [
      {
       "cases": [
        {
         "code": ">>> dot_product.shape == (10,)\nTrue",
         "hidden": false,
         "locked": false
        },
        {
         "code": ">>> bool(np.isclose(dot_product[2], np.float64(0.42041951680385947)) == True)\nTrue",
         "hidden": false,
         "locked": false
        }
       ],
       "scored": true,
       "setup": "",
       "teardown": "",
       "type": "doctest"
      }
     ]
    }
   }
  }
 },
 "nbformat": 4,
 "nbformat_minor": 4
}
